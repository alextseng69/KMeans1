{
  "nbformat": 4,
  "nbformat_minor": 5,
  "metadata": {
    "kernelspec": {
      "name": "python3",
      "display_name": "Python 3.7.8 64-bit"
    },
    "language_info": {
      "codemirror_mode": {
        "name": "ipython",
        "version": 3
      },
      "file_extension": ".py",
      "mimetype": "text/x-python",
      "name": "python",
      "nbconvert_exporter": "python",
      "pygments_lexer": "ipython3",
      "version": "3.7.8"
    },
    "papermill": {
      "default_parameters": {},
      "duration": 158.252456,
      "end_time": "2021-05-31T10:53:35.290920",
      "environment_variables": {},
      "exception": null,
      "input_path": "__notebook__.ipynb",
      "output_path": "__notebook__.ipynb",
      "parameters": {},
      "start_time": "2021-05-31T10:50:57.038464",
      "version": "2.3.3"
    },
    "interpreter": {
      "hash": "621a65262ec086cb200eadf9eea64e1b93700e402ac35bcce1837716d128c1eb"
    },
    "colab": {
      "name": "unsupervised-learning-with-k-means-clustering.ipynb",
      "provenance": [],
      "include_colab_link": true
    }
  },
  "cells": [
    {
      "cell_type": "markdown",
      "metadata": {
        "id": "view-in-github",
        "colab_type": "text"
      },
      "source": [
        "<a href=\"https://colab.research.google.com/github/alextseng69/KMeans1/blob/main/unsupervised_learning_with_k_means_clustering.ipynb\" target=\"_parent\"><img src=\"https://colab.research.google.com/assets/colab-badge.svg\" alt=\"Open In Colab\"/></a>"
      ]
    },
    {
      "cell_type": "markdown",
      "metadata": {
        "papermill": {
          "duration": 0.080787,
          "end_time": "2021-05-31T10:51:05.954629",
          "exception": false,
          "start_time": "2021-05-31T10:51:05.873842",
          "status": "completed"
        },
        "tags": [],
        "id": "blank-turkish"
      },
      "source": [
        "# Using ML to Allocate Funding for Development Aid\n",
        "## Unsupervised Learning with K-Means Clustering"
      ],
      "id": "blank-turkish"
    },
    {
      "cell_type": "markdown",
      "metadata": {
        "papermill": {
          "duration": 0.090352,
          "end_time": "2021-05-31T10:51:06.145978",
          "exception": false,
          "start_time": "2021-05-31T10:51:06.055626",
          "status": "completed"
        },
        "tags": [],
        "id": "higher-penalty"
      },
      "source": [
        "- <a href='#intro'>1. Introduction</a>\n",
        "\n",
        "- <a href='#2'>2. Libraries and datasets</a>\n",
        "     - <a href='#21'>2.1 Import libraries and packages</a>\n",
        "     - <a href='#22'>2.2 Import data</a>\n",
        "     \n",
        "- <a href='#3'>3. Data description and distribution</a>\n",
        "    - <a href='#31'>3.1. Data description</a> \n",
        "    - <a href='#32'>3.2. Data distribution</a>\n",
        "    \n",
        "- <a href='#4'>4. Data evaluation and reduction</a>\n",
        "    - <a href='#41'>4.1. Correlation</a>\n",
        "    - <a href='#42'>4.2. Scaling</a> \n",
        "    - <a href='#43'>4.3. PCA: Principal Component Analysis</a> \n",
        "\n",
        "- <a href='#5'>5. Model: K-Means Clustering</a>\n",
        "    - <a href='#51'>5.1. Model set up</a>\n",
        "    - <a href='#52'>5.2. Optimal number of clusters: Elbow Method</a>\n",
        "    - <a href='#53'>5.3. Optimal number of clusters: Silhouette Method</a>\n",
        "\n",
        "- <a href='#6'>6. Cluster analysis</a>\n",
        "    - <a href='#61'>6.1. Cluster plotting and visualisation</a>\n",
        "    - <a href='#62'>6.2. Cluster characteristics</a>\n",
        "    - <a href='#63'>6.3. Cluster descriptions</a>\n",
        "    \n",
        "- <a href='#7'>7. Further analysis to complement clustering </a>\n",
        "    - <a href='#71'>7.1. Dropping features with high correlation</a>   \n",
        "    - <a href='#72'>7.2. Further analysis of clusters</a>  \n",
        "    - <a href='#73'>7.3. Linear regression</a>   \n",
        "    - <a href='#74'>7.4. Further clustering of clusters</a>   \n",
        "- <a href='#8'>8. Answer to the question and learnings</a>\n",
        "\n",
        "- <a href='#9'>9. References</a>"
      ],
      "id": "higher-penalty"
    },
    {
      "cell_type": "markdown",
      "metadata": {
        "papermill": {
          "duration": 0.07902,
          "end_time": "2021-05-31T10:51:06.303720",
          "exception": false,
          "start_time": "2021-05-31T10:51:06.224700",
          "status": "completed"
        },
        "tags": [],
        "id": "adjustable-toner"
      },
      "source": [
        "## <a id='intro'>1. Intoduction</a>"
      ],
      "id": "adjustable-toner"
    },
    {
      "cell_type": "markdown",
      "metadata": {
        "papermill": {
          "duration": 0.078695,
          "end_time": "2021-05-31T10:51:06.461691",
          "exception": false,
          "start_time": "2021-05-31T10:51:06.382996",
          "status": "completed"
        },
        "tags": [],
        "id": "appropriate-beast"
      },
      "source": [
        "**Background**\n",
        "\n",
        "According to the International Monetary Fund (IMF), *development aid* is aid given by governments and other agencies to support the economic, environmental, social, and political development of developing countries.\n",
        "\n",
        "\n",
        "**Problem Statement (taken from Dataset)**\n",
        "\n",
        "HELP International have been able to raise around 10 million dollars. Now the CEO of the NGO needs to decide how to use this money strategically and effectively. \n",
        "\n",
        "So, the CEO has to make decision to choose the countries that are in the direst need of aid. \n",
        "\n",
        "Hence, the goal is to categorise the countries using some socio-economic and health factors that determine the overall development of the country. Then you need to suggest the countries which the CEO needs to focus on the most.\n",
        "\n",
        "### Which countries should receive funding and why?"
      ],
      "id": "appropriate-beast"
    },
    {
      "cell_type": "markdown",
      "metadata": {
        "papermill": {
          "duration": 0.078766,
          "end_time": "2021-05-31T10:51:06.619515",
          "exception": false,
          "start_time": "2021-05-31T10:51:06.540749",
          "status": "completed"
        },
        "tags": [],
        "id": "mounted-greene"
      },
      "source": [
        "## <a id='2'>2. Libraries and datasets</a>"
      ],
      "id": "mounted-greene"
    },
    {
      "cell_type": "markdown",
      "metadata": {
        "papermill": {
          "duration": 0.079319,
          "end_time": "2021-05-31T10:51:06.777860",
          "exception": false,
          "start_time": "2021-05-31T10:51:06.698541",
          "status": "completed"
        },
        "tags": [],
        "id": "decimal-coalition"
      },
      "source": [
        "### <a id='21'>2.1. Import libraries and packages</a>"
      ],
      "id": "decimal-coalition"
    },
    {
      "cell_type": "code",
      "metadata": {
        "_cell_guid": "b1076dfc-b9ad-4769-8c92-a6c4dae69d19",
        "_uuid": "8f2839f25d086af736a60e9eeb907d3b93b6e0e5",
        "execution": {
          "iopub.execute_input": "2021-05-31T10:51:06.951530Z",
          "iopub.status.busy": "2021-05-31T10:51:06.950614Z",
          "iopub.status.idle": "2021-05-31T10:51:11.028161Z",
          "shell.execute_reply": "2021-05-31T10:51:11.027204Z",
          "shell.execute_reply.started": "2021-05-31T05:18:26.121057Z"
        },
        "papermill": {
          "duration": 4.171254,
          "end_time": "2021-05-31T10:51:11.028405",
          "exception": false,
          "start_time": "2021-05-31T10:51:06.857151",
          "status": "completed"
        },
        "tags": [],
        "colab": {
          "base_uri": "https://localhost:8080/",
          "height": 449
        },
        "id": "opposite-authority",
        "outputId": "c1903f0e-5c7e-4cee-89a5-8bd877115e9b"
      },
      "source": [
        "import os\n",
        "import numpy as np\n",
        "import pandas as pd\n",
        "import seaborn as sns\n",
        "import matplotlib.pyplot as plt\n",
        "%matplotlib inline\n",
        "\n",
        "# scaling \n",
        "from sklearn.preprocessing import MinMaxScaler\n",
        "from sklearn.preprocessing import StandardScaler\n",
        "\n",
        "# kmeans clustering \n",
        "from sklearn.cluster import KMeans\n",
        "from sklearn.metrics import silhouette_score\n",
        "from yellowbrick.cluster import SilhouetteVisualizer\n",
        "\n",
        "# geo data\n",
        "import geopandas as gpd\n",
        "from geopandas import GeoDataFrame as gdf\n",
        "import plotly.express as px"
      ],
      "id": "opposite-authority",
      "execution_count": 1,
      "outputs": [
        {
          "output_type": "stream",
          "text": [
            "/usr/local/lib/python3.7/dist-packages/sklearn/utils/deprecation.py:144: FutureWarning: The sklearn.metrics.classification module is  deprecated in version 0.22 and will be removed in version 0.24. The corresponding classes / functions should instead be imported from sklearn.metrics. Anything that cannot be imported from sklearn.metrics is now part of the private API.\n",
            "  warnings.warn(message, FutureWarning)\n"
          ],
          "name": "stderr"
        },
        {
          "output_type": "error",
          "ename": "ModuleNotFoundError",
          "evalue": "ignored",
          "traceback": [
            "\u001b[0;31m---------------------------------------------------------------------------\u001b[0m",
            "\u001b[0;31mModuleNotFoundError\u001b[0m                       Traceback (most recent call last)",
            "\u001b[0;32m<ipython-input-1-207c10e208c4>\u001b[0m in \u001b[0;36m<module>\u001b[0;34m()\u001b[0m\n\u001b[1;32m     16\u001b[0m \u001b[0;34m\u001b[0m\u001b[0m\n\u001b[1;32m     17\u001b[0m \u001b[0;31m# geo data\u001b[0m\u001b[0;34m\u001b[0m\u001b[0;34m\u001b[0m\u001b[0;34m\u001b[0m\u001b[0m\n\u001b[0;32m---> 18\u001b[0;31m \u001b[0;32mimport\u001b[0m \u001b[0mgeopandas\u001b[0m \u001b[0;32mas\u001b[0m \u001b[0mgpd\u001b[0m\u001b[0;34m\u001b[0m\u001b[0;34m\u001b[0m\u001b[0m\n\u001b[0m\u001b[1;32m     19\u001b[0m \u001b[0;32mfrom\u001b[0m \u001b[0mgeopandas\u001b[0m \u001b[0;32mimport\u001b[0m \u001b[0mGeoDataFrame\u001b[0m \u001b[0;32mas\u001b[0m \u001b[0mgdf\u001b[0m\u001b[0;34m\u001b[0m\u001b[0;34m\u001b[0m\u001b[0m\n\u001b[1;32m     20\u001b[0m \u001b[0;32mimport\u001b[0m \u001b[0mplotly\u001b[0m\u001b[0;34m.\u001b[0m\u001b[0mexpress\u001b[0m \u001b[0;32mas\u001b[0m \u001b[0mpx\u001b[0m\u001b[0;34m\u001b[0m\u001b[0;34m\u001b[0m\u001b[0m\n",
            "\u001b[0;31mModuleNotFoundError\u001b[0m: No module named 'geopandas'",
            "",
            "\u001b[0;31m---------------------------------------------------------------------------\u001b[0;32m\nNOTE: If your import is failing due to a missing package, you can\nmanually install dependencies using either !pip or !apt.\n\nTo view examples of installing some common dependencies, click the\n\"Open Examples\" button below.\n\u001b[0;31m---------------------------------------------------------------------------\u001b[0m\n"
          ]
        }
      ]
    },
    {
      "cell_type": "markdown",
      "metadata": {
        "papermill": {
          "duration": 0.080213,
          "end_time": "2021-05-31T10:51:11.190663",
          "exception": false,
          "start_time": "2021-05-31T10:51:11.110450",
          "status": "completed"
        },
        "tags": [],
        "id": "computational-crisis"
      },
      "source": [
        "### <a id='22'>2.2. Import data</a>"
      ],
      "id": "computational-crisis"
    },
    {
      "cell_type": "code",
      "metadata": {
        "execution": {
          "iopub.execute_input": "2021-05-31T10:51:11.355818Z",
          "iopub.status.busy": "2021-05-31T10:51:11.354761Z",
          "iopub.status.idle": "2021-05-31T10:51:11.358470Z",
          "shell.execute_reply": "2021-05-31T10:51:11.357778Z",
          "shell.execute_reply.started": "2021-05-31T05:18:29.472336Z"
        },
        "papermill": {
          "duration": 0.088683,
          "end_time": "2021-05-31T10:51:11.358633",
          "exception": false,
          "start_time": "2021-05-31T10:51:11.269950",
          "status": "completed"
        },
        "tags": [],
        "id": "awful-haven"
      },
      "source": [
        "data_path = '../input/unsupervised-learning-on-country-data'"
      ],
      "id": "awful-haven",
      "execution_count": 2,
      "outputs": []
    },
    {
      "cell_type": "code",
      "metadata": {
        "execution": {
          "iopub.execute_input": "2021-05-31T10:51:11.522055Z",
          "iopub.status.busy": "2021-05-31T10:51:11.521255Z",
          "iopub.status.idle": "2021-05-31T10:51:11.540387Z",
          "shell.execute_reply": "2021-05-31T10:51:11.540871Z",
          "shell.execute_reply.started": "2021-05-31T05:18:29.479306Z"
        },
        "papermill": {
          "duration": 0.103223,
          "end_time": "2021-05-31T10:51:11.541071",
          "exception": false,
          "start_time": "2021-05-31T10:51:11.437848",
          "status": "completed"
        },
        "tags": [],
        "colab": {
          "base_uri": "https://localhost:8080/",
          "height": 417
        },
        "id": "registered-reasoning",
        "outputId": "a414de09-25c5-488f-cb4c-479a2762e34e"
      },
      "source": [
        "data = pd.read_csv(\n",
        "    f'{data_path}/Country-data.csv')"
      ],
      "id": "registered-reasoning",
      "execution_count": 3,
      "outputs": [
        {
          "output_type": "error",
          "ename": "FileNotFoundError",
          "evalue": "ignored",
          "traceback": [
            "\u001b[0;31m---------------------------------------------------------------------------\u001b[0m",
            "\u001b[0;31mFileNotFoundError\u001b[0m                         Traceback (most recent call last)",
            "\u001b[0;32m<ipython-input-3-0ef86a653853>\u001b[0m in \u001b[0;36m<module>\u001b[0;34m()\u001b[0m\n\u001b[1;32m      1\u001b[0m data = pd.read_csv(\n\u001b[0;32m----> 2\u001b[0;31m     f'{data_path}/Country-data.csv')\n\u001b[0m",
            "\u001b[0;32m/usr/local/lib/python3.7/dist-packages/pandas/io/parsers.py\u001b[0m in \u001b[0;36mread_csv\u001b[0;34m(filepath_or_buffer, sep, delimiter, header, names, index_col, usecols, squeeze, prefix, mangle_dupe_cols, dtype, engine, converters, true_values, false_values, skipinitialspace, skiprows, skipfooter, nrows, na_values, keep_default_na, na_filter, verbose, skip_blank_lines, parse_dates, infer_datetime_format, keep_date_col, date_parser, dayfirst, cache_dates, iterator, chunksize, compression, thousands, decimal, lineterminator, quotechar, quoting, doublequote, escapechar, comment, encoding, dialect, error_bad_lines, warn_bad_lines, delim_whitespace, low_memory, memory_map, float_precision)\u001b[0m\n\u001b[1;32m    686\u001b[0m     )\n\u001b[1;32m    687\u001b[0m \u001b[0;34m\u001b[0m\u001b[0m\n\u001b[0;32m--> 688\u001b[0;31m     \u001b[0;32mreturn\u001b[0m \u001b[0m_read\u001b[0m\u001b[0;34m(\u001b[0m\u001b[0mfilepath_or_buffer\u001b[0m\u001b[0;34m,\u001b[0m \u001b[0mkwds\u001b[0m\u001b[0;34m)\u001b[0m\u001b[0;34m\u001b[0m\u001b[0;34m\u001b[0m\u001b[0m\n\u001b[0m\u001b[1;32m    689\u001b[0m \u001b[0;34m\u001b[0m\u001b[0m\n\u001b[1;32m    690\u001b[0m \u001b[0;34m\u001b[0m\u001b[0m\n",
            "\u001b[0;32m/usr/local/lib/python3.7/dist-packages/pandas/io/parsers.py\u001b[0m in \u001b[0;36m_read\u001b[0;34m(filepath_or_buffer, kwds)\u001b[0m\n\u001b[1;32m    452\u001b[0m \u001b[0;34m\u001b[0m\u001b[0m\n\u001b[1;32m    453\u001b[0m     \u001b[0;31m# Create the parser.\u001b[0m\u001b[0;34m\u001b[0m\u001b[0;34m\u001b[0m\u001b[0;34m\u001b[0m\u001b[0m\n\u001b[0;32m--> 454\u001b[0;31m     \u001b[0mparser\u001b[0m \u001b[0;34m=\u001b[0m \u001b[0mTextFileReader\u001b[0m\u001b[0;34m(\u001b[0m\u001b[0mfp_or_buf\u001b[0m\u001b[0;34m,\u001b[0m \u001b[0;34m**\u001b[0m\u001b[0mkwds\u001b[0m\u001b[0;34m)\u001b[0m\u001b[0;34m\u001b[0m\u001b[0;34m\u001b[0m\u001b[0m\n\u001b[0m\u001b[1;32m    455\u001b[0m \u001b[0;34m\u001b[0m\u001b[0m\n\u001b[1;32m    456\u001b[0m     \u001b[0;32mif\u001b[0m \u001b[0mchunksize\u001b[0m \u001b[0;32mor\u001b[0m \u001b[0miterator\u001b[0m\u001b[0;34m:\u001b[0m\u001b[0;34m\u001b[0m\u001b[0;34m\u001b[0m\u001b[0m\n",
            "\u001b[0;32m/usr/local/lib/python3.7/dist-packages/pandas/io/parsers.py\u001b[0m in \u001b[0;36m__init__\u001b[0;34m(self, f, engine, **kwds)\u001b[0m\n\u001b[1;32m    946\u001b[0m             \u001b[0mself\u001b[0m\u001b[0;34m.\u001b[0m\u001b[0moptions\u001b[0m\u001b[0;34m[\u001b[0m\u001b[0;34m\"has_index_names\"\u001b[0m\u001b[0;34m]\u001b[0m \u001b[0;34m=\u001b[0m \u001b[0mkwds\u001b[0m\u001b[0;34m[\u001b[0m\u001b[0;34m\"has_index_names\"\u001b[0m\u001b[0;34m]\u001b[0m\u001b[0;34m\u001b[0m\u001b[0;34m\u001b[0m\u001b[0m\n\u001b[1;32m    947\u001b[0m \u001b[0;34m\u001b[0m\u001b[0m\n\u001b[0;32m--> 948\u001b[0;31m         \u001b[0mself\u001b[0m\u001b[0;34m.\u001b[0m\u001b[0m_make_engine\u001b[0m\u001b[0;34m(\u001b[0m\u001b[0mself\u001b[0m\u001b[0;34m.\u001b[0m\u001b[0mengine\u001b[0m\u001b[0;34m)\u001b[0m\u001b[0;34m\u001b[0m\u001b[0;34m\u001b[0m\u001b[0m\n\u001b[0m\u001b[1;32m    949\u001b[0m \u001b[0;34m\u001b[0m\u001b[0m\n\u001b[1;32m    950\u001b[0m     \u001b[0;32mdef\u001b[0m \u001b[0mclose\u001b[0m\u001b[0;34m(\u001b[0m\u001b[0mself\u001b[0m\u001b[0;34m)\u001b[0m\u001b[0;34m:\u001b[0m\u001b[0;34m\u001b[0m\u001b[0;34m\u001b[0m\u001b[0m\n",
            "\u001b[0;32m/usr/local/lib/python3.7/dist-packages/pandas/io/parsers.py\u001b[0m in \u001b[0;36m_make_engine\u001b[0;34m(self, engine)\u001b[0m\n\u001b[1;32m   1178\u001b[0m     \u001b[0;32mdef\u001b[0m \u001b[0m_make_engine\u001b[0m\u001b[0;34m(\u001b[0m\u001b[0mself\u001b[0m\u001b[0;34m,\u001b[0m \u001b[0mengine\u001b[0m\u001b[0;34m=\u001b[0m\u001b[0;34m\"c\"\u001b[0m\u001b[0;34m)\u001b[0m\u001b[0;34m:\u001b[0m\u001b[0;34m\u001b[0m\u001b[0;34m\u001b[0m\u001b[0m\n\u001b[1;32m   1179\u001b[0m         \u001b[0;32mif\u001b[0m \u001b[0mengine\u001b[0m \u001b[0;34m==\u001b[0m \u001b[0;34m\"c\"\u001b[0m\u001b[0;34m:\u001b[0m\u001b[0;34m\u001b[0m\u001b[0;34m\u001b[0m\u001b[0m\n\u001b[0;32m-> 1180\u001b[0;31m             \u001b[0mself\u001b[0m\u001b[0;34m.\u001b[0m\u001b[0m_engine\u001b[0m \u001b[0;34m=\u001b[0m \u001b[0mCParserWrapper\u001b[0m\u001b[0;34m(\u001b[0m\u001b[0mself\u001b[0m\u001b[0;34m.\u001b[0m\u001b[0mf\u001b[0m\u001b[0;34m,\u001b[0m \u001b[0;34m**\u001b[0m\u001b[0mself\u001b[0m\u001b[0;34m.\u001b[0m\u001b[0moptions\u001b[0m\u001b[0;34m)\u001b[0m\u001b[0;34m\u001b[0m\u001b[0;34m\u001b[0m\u001b[0m\n\u001b[0m\u001b[1;32m   1181\u001b[0m         \u001b[0;32melse\u001b[0m\u001b[0;34m:\u001b[0m\u001b[0;34m\u001b[0m\u001b[0;34m\u001b[0m\u001b[0m\n\u001b[1;32m   1182\u001b[0m             \u001b[0;32mif\u001b[0m \u001b[0mengine\u001b[0m \u001b[0;34m==\u001b[0m \u001b[0;34m\"python\"\u001b[0m\u001b[0;34m:\u001b[0m\u001b[0;34m\u001b[0m\u001b[0;34m\u001b[0m\u001b[0m\n",
            "\u001b[0;32m/usr/local/lib/python3.7/dist-packages/pandas/io/parsers.py\u001b[0m in \u001b[0;36m__init__\u001b[0;34m(self, src, **kwds)\u001b[0m\n\u001b[1;32m   2008\u001b[0m         \u001b[0mkwds\u001b[0m\u001b[0;34m[\u001b[0m\u001b[0;34m\"usecols\"\u001b[0m\u001b[0;34m]\u001b[0m \u001b[0;34m=\u001b[0m \u001b[0mself\u001b[0m\u001b[0;34m.\u001b[0m\u001b[0musecols\u001b[0m\u001b[0;34m\u001b[0m\u001b[0;34m\u001b[0m\u001b[0m\n\u001b[1;32m   2009\u001b[0m \u001b[0;34m\u001b[0m\u001b[0m\n\u001b[0;32m-> 2010\u001b[0;31m         \u001b[0mself\u001b[0m\u001b[0;34m.\u001b[0m\u001b[0m_reader\u001b[0m \u001b[0;34m=\u001b[0m \u001b[0mparsers\u001b[0m\u001b[0;34m.\u001b[0m\u001b[0mTextReader\u001b[0m\u001b[0;34m(\u001b[0m\u001b[0msrc\u001b[0m\u001b[0;34m,\u001b[0m \u001b[0;34m**\u001b[0m\u001b[0mkwds\u001b[0m\u001b[0;34m)\u001b[0m\u001b[0;34m\u001b[0m\u001b[0;34m\u001b[0m\u001b[0m\n\u001b[0m\u001b[1;32m   2011\u001b[0m         \u001b[0mself\u001b[0m\u001b[0;34m.\u001b[0m\u001b[0munnamed_cols\u001b[0m \u001b[0;34m=\u001b[0m \u001b[0mself\u001b[0m\u001b[0;34m.\u001b[0m\u001b[0m_reader\u001b[0m\u001b[0;34m.\u001b[0m\u001b[0munnamed_cols\u001b[0m\u001b[0;34m\u001b[0m\u001b[0;34m\u001b[0m\u001b[0m\n\u001b[1;32m   2012\u001b[0m \u001b[0;34m\u001b[0m\u001b[0m\n",
            "\u001b[0;32mpandas/_libs/parsers.pyx\u001b[0m in \u001b[0;36mpandas._libs.parsers.TextReader.__cinit__\u001b[0;34m()\u001b[0m\n",
            "\u001b[0;32mpandas/_libs/parsers.pyx\u001b[0m in \u001b[0;36mpandas._libs.parsers.TextReader._setup_parser_source\u001b[0;34m()\u001b[0m\n",
            "\u001b[0;31mFileNotFoundError\u001b[0m: [Errno 2] No such file or directory: '../input/unsupervised-learning-on-country-data/Country-data.csv'"
          ]
        }
      ]
    },
    {
      "cell_type": "markdown",
      "metadata": {
        "papermill": {
          "duration": 0.07806,
          "end_time": "2021-05-31T10:51:11.697749",
          "exception": false,
          "start_time": "2021-05-31T10:51:11.619689",
          "status": "completed"
        },
        "tags": [],
        "id": "tough-addiction"
      },
      "source": [
        "## <a id='3'>3. Data description and distribution</a>"
      ],
      "id": "tough-addiction"
    },
    {
      "cell_type": "markdown",
      "metadata": {
        "papermill": {
          "duration": 0.078251,
          "end_time": "2021-05-31T10:51:11.854112",
          "exception": false,
          "start_time": "2021-05-31T10:51:11.775861",
          "status": "completed"
        },
        "tags": [],
        "id": "offshore-blood"
      },
      "source": [
        "### <a id='31'>3.1. Data description</a>"
      ],
      "id": "offshore-blood"
    },
    {
      "cell_type": "markdown",
      "metadata": {
        "papermill": {
          "duration": 0.079596,
          "end_time": "2021-05-31T10:51:12.011847",
          "exception": false,
          "start_time": "2021-05-31T10:51:11.932251",
          "status": "completed"
        },
        "tags": [],
        "id": "banned-hypothesis"
      },
      "source": [
        "**Feature Description** \n",
        "\n",
        "* country:      Name of the country\n",
        "\n",
        "* child_mort:   Death of children under 5 years of age per 1000 live births\n",
        "\n",
        "* exports:      Exports of goods and services per capita. Given as %age of the GDP per capita\n",
        "\n",
        "* health:       Total health spending per capita. Given as %age of GDP per capita\n",
        "\n",
        "* imports:      Imports of goods and services per capita. Given as %age of the GDP per capita\n",
        "\n",
        "* Income:       Net income per person\n",
        "\n",
        "* Inflation:    The measurement of the annual growth rate of the Total GDP\n",
        "\n",
        "* life_expec:   The average number of years a new born child would live if the current mortality patterns are to remain the same\n",
        "\n",
        "* total_fer:    The number of children that would be born to each woman if the current age-fertility rates remain the same\n",
        "\n",
        "* gdpp:         The GDP per capita. Calculated as the Total GDP divided by the total population"
      ],
      "id": "banned-hypothesis"
    },
    {
      "cell_type": "code",
      "metadata": {
        "execution": {
          "iopub.execute_input": "2021-05-31T10:51:12.173660Z",
          "iopub.status.busy": "2021-05-31T10:51:12.173008Z",
          "iopub.status.idle": "2021-05-31T10:51:12.205815Z",
          "shell.execute_reply": "2021-05-31T10:51:12.206306Z",
          "shell.execute_reply.started": "2021-05-31T05:18:29.504806Z"
        },
        "papermill": {
          "duration": 0.115266,
          "end_time": "2021-05-31T10:51:12.206520",
          "exception": false,
          "start_time": "2021-05-31T10:51:12.091254",
          "status": "completed"
        },
        "tags": [],
        "id": "electrical-astronomy"
      },
      "source": [
        "# quick view of columns and values\n",
        "data.head()"
      ],
      "id": "electrical-astronomy",
      "execution_count": null,
      "outputs": []
    },
    {
      "cell_type": "code",
      "metadata": {
        "execution": {
          "iopub.execute_input": "2021-05-31T10:51:12.368880Z",
          "iopub.status.busy": "2021-05-31T10:51:12.368219Z",
          "iopub.status.idle": "2021-05-31T10:51:12.373594Z",
          "shell.execute_reply": "2021-05-31T10:51:12.373020Z",
          "shell.execute_reply.started": "2021-05-31T05:18:29.536076Z"
        },
        "papermill": {
          "duration": 0.087617,
          "end_time": "2021-05-31T10:51:12.373758",
          "exception": false,
          "start_time": "2021-05-31T10:51:12.286141",
          "status": "completed"
        },
        "tags": [],
        "id": "absent-tender"
      },
      "source": [
        "# how many columns and rows in dataframe\n",
        "data.shape"
      ],
      "id": "absent-tender",
      "execution_count": null,
      "outputs": []
    },
    {
      "cell_type": "code",
      "metadata": {
        "execution": {
          "iopub.execute_input": "2021-05-31T10:51:12.543132Z",
          "iopub.status.busy": "2021-05-31T10:51:12.542475Z",
          "iopub.status.idle": "2021-05-31T10:51:12.547417Z",
          "shell.execute_reply": "2021-05-31T10:51:12.548138Z",
          "shell.execute_reply.started": "2021-05-31T05:18:29.543164Z"
        },
        "papermill": {
          "duration": 0.093718,
          "end_time": "2021-05-31T10:51:12.548441",
          "exception": false,
          "start_time": "2021-05-31T10:51:12.454723",
          "status": "completed"
        },
        "tags": [],
        "id": "digital-unknown"
      },
      "source": [
        "# are there any missing values?\n",
        "data.isnull().sum()"
      ],
      "id": "digital-unknown",
      "execution_count": null,
      "outputs": []
    },
    {
      "cell_type": "code",
      "metadata": {
        "execution": {
          "iopub.execute_input": "2021-05-31T10:51:12.715123Z",
          "iopub.status.busy": "2021-05-31T10:51:12.714115Z",
          "iopub.status.idle": "2021-05-31T10:51:12.733150Z",
          "shell.execute_reply": "2021-05-31T10:51:12.732227Z",
          "shell.execute_reply.started": "2021-05-31T05:18:29.556838Z"
        },
        "papermill": {
          "duration": 0.103615,
          "end_time": "2021-05-31T10:51:12.733411",
          "exception": false,
          "start_time": "2021-05-31T10:51:12.629796",
          "status": "completed"
        },
        "tags": [],
        "id": "therapeutic-worcester"
      },
      "source": [
        "# are there duplicate values?\n",
        "format(len(data[data.duplicated()]))"
      ],
      "id": "therapeutic-worcester",
      "execution_count": null,
      "outputs": []
    },
    {
      "cell_type": "code",
      "metadata": {
        "execution": {
          "iopub.execute_input": "2021-05-31T10:51:12.906795Z",
          "iopub.status.busy": "2021-05-31T10:51:12.906088Z",
          "iopub.status.idle": "2021-05-31T10:51:12.945123Z",
          "shell.execute_reply": "2021-05-31T10:51:12.944575Z",
          "shell.execute_reply.started": "2021-05-31T05:18:29.577755Z"
        },
        "papermill": {
          "duration": 0.129648,
          "end_time": "2021-05-31T10:51:12.945363",
          "exception": false,
          "start_time": "2021-05-31T10:51:12.815715",
          "status": "completed"
        },
        "tags": [],
        "id": "mineral-dispatch"
      },
      "source": [
        "# standard statistical measures\n",
        "data.describe(percentiles = [.25, .5, .75, .90 ,.95, .99])"
      ],
      "id": "mineral-dispatch",
      "execution_count": null,
      "outputs": []
    },
    {
      "cell_type": "markdown",
      "metadata": {
        "papermill": {
          "duration": 0.082688,
          "end_time": "2021-05-31T10:51:13.112258",
          "exception": false,
          "start_time": "2021-05-31T10:51:13.029570",
          "status": "completed"
        },
        "tags": [],
        "id": "rental-cleaning"
      },
      "source": [
        "**Findings**\n",
        "\n",
        "* small dataset\n",
        "* no missing values\n",
        "* no duplicate values\n",
        "* some outliers and skewed distribution"
      ],
      "id": "rental-cleaning"
    },
    {
      "cell_type": "markdown",
      "metadata": {
        "papermill": {
          "duration": 0.080759,
          "end_time": "2021-05-31T10:51:13.273886",
          "exception": false,
          "start_time": "2021-05-31T10:51:13.193127",
          "status": "completed"
        },
        "tags": [],
        "id": "neutral-logan"
      },
      "source": [
        "### <a id='32'>3.2. Data distribution</a>"
      ],
      "id": "neutral-logan"
    },
    {
      "cell_type": "code",
      "metadata": {
        "execution": {
          "iopub.execute_input": "2021-05-31T10:51:13.458707Z",
          "iopub.status.busy": "2021-05-31T10:51:13.458047Z",
          "iopub.status.idle": "2021-05-31T10:51:13.690704Z",
          "shell.execute_reply": "2021-05-31T10:51:13.690137Z",
          "shell.execute_reply.started": "2021-05-31T05:18:29.621804Z"
        },
        "papermill": {
          "duration": 0.337138,
          "end_time": "2021-05-31T10:51:13.690856",
          "exception": false,
          "start_time": "2021-05-31T10:51:13.353718",
          "status": "completed"
        },
        "tags": [],
        "id": "dirty-sword"
      },
      "source": [
        "plt.figure(figsize=(12,5))\n",
        "plt.title(\"Child Mortality: Death of children under 5 years of age per 1000 live births\")\n",
        "ax = sns.histplot(data[\"child_mort\"])"
      ],
      "id": "dirty-sword",
      "execution_count": null,
      "outputs": []
    },
    {
      "cell_type": "code",
      "metadata": {
        "execution": {
          "iopub.execute_input": "2021-05-31T10:51:13.904102Z",
          "iopub.status.busy": "2021-05-31T10:51:13.894726Z",
          "iopub.status.idle": "2021-05-31T10:51:14.120536Z",
          "shell.execute_reply": "2021-05-31T10:51:14.119979Z",
          "shell.execute_reply.started": "2021-05-31T05:18:29.837939Z"
        },
        "papermill": {
          "duration": 0.348471,
          "end_time": "2021-05-31T10:51:14.120687",
          "exception": false,
          "start_time": "2021-05-31T10:51:13.772216",
          "status": "completed"
        },
        "tags": [],
        "id": "executive-liver"
      },
      "source": [
        "plt.figure(figsize=(12,5))\n",
        "plt.title(\"Exports: Exports of goods and services per capita. Given as %age of the GDP per capita\")\n",
        "ax = sns.histplot(data[\"exports\"])"
      ],
      "id": "executive-liver",
      "execution_count": null,
      "outputs": []
    },
    {
      "cell_type": "code",
      "metadata": {
        "execution": {
          "iopub.execute_input": "2021-05-31T10:51:14.311824Z",
          "iopub.status.busy": "2021-05-31T10:51:14.309760Z",
          "iopub.status.idle": "2021-05-31T10:51:14.511152Z",
          "shell.execute_reply": "2021-05-31T10:51:14.510498Z",
          "shell.execute_reply.started": "2021-05-31T05:18:30.056324Z"
        },
        "papermill": {
          "duration": 0.307682,
          "end_time": "2021-05-31T10:51:14.511315",
          "exception": false,
          "start_time": "2021-05-31T10:51:14.203633",
          "status": "completed"
        },
        "tags": [],
        "id": "latin-setup"
      },
      "source": [
        "plt.figure(figsize=(12,5))\n",
        "plt.title(\"Imports: Imports of goods and services per capita. Given as %age of the GDP per capita\")\n",
        "ax = sns.histplot(data[\"imports\"])"
      ],
      "id": "latin-setup",
      "execution_count": null,
      "outputs": []
    },
    {
      "cell_type": "code",
      "metadata": {
        "execution": {
          "iopub.execute_input": "2021-05-31T10:51:14.717350Z",
          "iopub.status.busy": "2021-05-31T10:51:14.714777Z",
          "iopub.status.idle": "2021-05-31T10:51:14.918219Z",
          "shell.execute_reply": "2021-05-31T10:51:14.917706Z",
          "shell.execute_reply.started": "2021-05-31T05:18:30.260088Z"
        },
        "papermill": {
          "duration": 0.323765,
          "end_time": "2021-05-31T10:51:14.918407",
          "exception": false,
          "start_time": "2021-05-31T10:51:14.594642",
          "status": "completed"
        },
        "tags": [],
        "id": "frequent-wichita"
      },
      "source": [
        "plt.figure(figsize=(12,5))\n",
        "plt.title(\"Health: Total health spending per capita. Given as %age of GDP per capita\")\n",
        "ax = sns.histplot(data[\"health\"])"
      ],
      "id": "frequent-wichita",
      "execution_count": null,
      "outputs": []
    },
    {
      "cell_type": "code",
      "metadata": {
        "execution": {
          "iopub.execute_input": "2021-05-31T10:51:15.114091Z",
          "iopub.status.busy": "2021-05-31T10:51:15.112849Z",
          "iopub.status.idle": "2021-05-31T10:51:15.301619Z",
          "shell.execute_reply": "2021-05-31T10:51:15.302161Z",
          "shell.execute_reply.started": "2021-05-31T05:18:30.464708Z"
        },
        "papermill": {
          "duration": 0.296683,
          "end_time": "2021-05-31T10:51:15.302440",
          "exception": false,
          "start_time": "2021-05-31T10:51:15.005757",
          "status": "completed"
        },
        "tags": [],
        "id": "cooperative-diana"
      },
      "source": [
        "plt.figure(figsize=(12,5))\n",
        "plt.title(\"Income: Net income per person\")\n",
        "ax = sns.histplot(data[\"income\"])"
      ],
      "id": "cooperative-diana",
      "execution_count": null,
      "outputs": []
    },
    {
      "cell_type": "code",
      "metadata": {
        "execution": {
          "iopub.execute_input": "2021-05-31T10:51:15.508215Z",
          "iopub.status.busy": "2021-05-31T10:51:15.507541Z",
          "iopub.status.idle": "2021-05-31T10:51:15.774997Z",
          "shell.execute_reply": "2021-05-31T10:51:15.773994Z",
          "shell.execute_reply.started": "2021-05-31T05:18:30.660817Z"
        },
        "papermill": {
          "duration": 0.374117,
          "end_time": "2021-05-31T10:51:15.775169",
          "exception": false,
          "start_time": "2021-05-31T10:51:15.401052",
          "status": "completed"
        },
        "tags": [],
        "id": "chief-newcastle"
      },
      "source": [
        "plt.figure(figsize=(12,5))\n",
        "plt.title(\"Inflation: The measurement of the annual growth rate of the Total GDP\")\n",
        "ax = sns.histplot(data[\"inflation\"])"
      ],
      "id": "chief-newcastle",
      "execution_count": null,
      "outputs": []
    },
    {
      "cell_type": "code",
      "metadata": {
        "execution": {
          "iopub.execute_input": "2021-05-31T10:51:16.197813Z",
          "iopub.status.busy": "2021-05-31T10:51:16.186016Z",
          "iopub.status.idle": "2021-05-31T10:51:16.371753Z",
          "shell.execute_reply": "2021-05-31T10:51:16.371070Z",
          "shell.execute_reply.started": "2021-05-31T05:18:30.875722Z"
        },
        "papermill": {
          "duration": 0.510109,
          "end_time": "2021-05-31T10:51:16.371915",
          "exception": false,
          "start_time": "2021-05-31T10:51:15.861806",
          "status": "completed"
        },
        "tags": [],
        "id": "better-minutes"
      },
      "source": [
        "plt.figure(figsize=(12,5))\n",
        "plt.title(\"Life expectancy: The average number of years a new born child would live if the current mortality patterns are to remain the same\")\n",
        "ax = sns.histplot(data[\"life_expec\"])"
      ],
      "id": "better-minutes",
      "execution_count": null,
      "outputs": []
    },
    {
      "cell_type": "code",
      "metadata": {
        "execution": {
          "iopub.execute_input": "2021-05-31T10:51:16.654550Z",
          "iopub.status.busy": "2021-05-31T10:51:16.643437Z",
          "iopub.status.idle": "2021-05-31T10:51:16.819620Z",
          "shell.execute_reply": "2021-05-31T10:51:16.820114Z",
          "shell.execute_reply.started": "2021-05-31T05:18:31.198920Z"
        },
        "papermill": {
          "duration": 0.289986,
          "end_time": "2021-05-31T10:51:16.820342",
          "exception": false,
          "start_time": "2021-05-31T10:51:16.530356",
          "status": "completed"
        },
        "tags": [],
        "id": "looking-toronto"
      },
      "source": [
        "plt.figure(figsize=(12,5))\n",
        "plt.title(\"New Population(?) :The number of children that would be born to each woman if the current age-fertility rates remain the same.\")\n",
        "ax = sns.histplot(data[\"total_fer\"])"
      ],
      "id": "looking-toronto",
      "execution_count": null,
      "outputs": []
    },
    {
      "cell_type": "code",
      "metadata": {
        "execution": {
          "iopub.execute_input": "2021-05-31T10:51:17.060066Z",
          "iopub.status.busy": "2021-05-31T10:51:17.048739Z",
          "iopub.status.idle": "2021-05-31T10:51:17.264304Z",
          "shell.execute_reply": "2021-05-31T10:51:17.263710Z",
          "shell.execute_reply.started": "2021-05-31T05:18:31.372962Z"
        },
        "papermill": {
          "duration": 0.354652,
          "end_time": "2021-05-31T10:51:17.264465",
          "exception": false,
          "start_time": "2021-05-31T10:51:16.909813",
          "status": "completed"
        },
        "tags": [],
        "id": "educational-wesley"
      },
      "source": [
        "plt.figure(figsize=(12,5))\n",
        "plt.title(\"GDP: The GDP per capita. Calculated as the Total GDP divided by the total population.\")\n",
        "ax = sns.histplot(data[\"gdpp\"])"
      ],
      "id": "educational-wesley",
      "execution_count": null,
      "outputs": []
    },
    {
      "cell_type": "markdown",
      "metadata": {
        "papermill": {
          "duration": 0.089994,
          "end_time": "2021-05-31T10:51:17.444229",
          "exception": false,
          "start_time": "2021-05-31T10:51:17.354235",
          "status": "completed"
        },
        "tags": [],
        "id": "everyday-nursery"
      },
      "source": [
        "**Findings**\n",
        "\n",
        "Looking at the data distribution we can see that there are some features that do indeed have outliers.\n",
        "\n",
        "For the purpose of this analysis, outliers will not be removed since they could be considered very informative in that they could point out countries that are in critical condition and in need of help.\n",
        "\n",
        "For example, Child Mortality is a strong indicator of poverty and necessity, so the outliers in this feature show that there are countries with a higher than normal/critical number in child mortality.\n",
        " "
      ],
      "id": "everyday-nursery"
    },
    {
      "cell_type": "markdown",
      "metadata": {
        "papermill": {
          "duration": 0.089758,
          "end_time": "2021-05-31T10:51:17.623730",
          "exception": false,
          "start_time": "2021-05-31T10:51:17.533972",
          "status": "completed"
        },
        "tags": [],
        "id": "macro-scholarship"
      },
      "source": [
        "## <a id='4'>4. Data evaluation and reduction</a>"
      ],
      "id": "macro-scholarship"
    },
    {
      "cell_type": "markdown",
      "metadata": {
        "papermill": {
          "duration": 0.089482,
          "end_time": "2021-05-31T10:51:17.802845",
          "exception": false,
          "start_time": "2021-05-31T10:51:17.713363",
          "status": "completed"
        },
        "tags": [],
        "id": "amino-semiconductor"
      },
      "source": [
        "### <a id='41'>4.1. Correlation</a>"
      ],
      "id": "amino-semiconductor"
    },
    {
      "cell_type": "code",
      "metadata": {
        "execution": {
          "iopub.execute_input": "2021-05-31T10:51:17.995709Z",
          "iopub.status.busy": "2021-05-31T10:51:17.994931Z",
          "iopub.status.idle": "2021-05-31T10:51:18.662640Z",
          "shell.execute_reply": "2021-05-31T10:51:18.662048Z",
          "shell.execute_reply.started": "2021-05-31T05:18:31.585162Z"
        },
        "papermill": {
          "duration": 0.770319,
          "end_time": "2021-05-31T10:51:18.662792",
          "exception": false,
          "start_time": "2021-05-31T10:51:17.892473",
          "status": "completed"
        },
        "tags": [],
        "id": "binding-border"
      },
      "source": [
        "# pearson\n",
        "plt.figure(figsize=(15,10))\n",
        "sns.heatmap(data.corr(method='pearson', min_periods=1),annot=True)"
      ],
      "id": "binding-border",
      "execution_count": null,
      "outputs": []
    },
    {
      "cell_type": "code",
      "metadata": {
        "execution": {
          "iopub.execute_input": "2021-05-31T10:51:18.857152Z",
          "iopub.status.busy": "2021-05-31T10:51:18.854228Z",
          "iopub.status.idle": "2021-05-31T10:51:19.547719Z",
          "shell.execute_reply": "2021-05-31T10:51:19.548259Z",
          "shell.execute_reply.started": "2021-05-31T05:18:32.223932Z"
        },
        "papermill": {
          "duration": 0.793458,
          "end_time": "2021-05-31T10:51:19.548475",
          "exception": false,
          "start_time": "2021-05-31T10:51:18.755017",
          "status": "completed"
        },
        "tags": [],
        "id": "horizontal-sense"
      },
      "source": [
        "# kendall\n",
        "plt.figure(figsize=(15,10))\n",
        "sns.heatmap(data.corr(method='kendall', min_periods=1),annot=True)"
      ],
      "id": "horizontal-sense",
      "execution_count": null,
      "outputs": []
    },
    {
      "cell_type": "code",
      "metadata": {
        "execution": {
          "iopub.execute_input": "2021-05-31T10:51:19.751220Z",
          "iopub.status.busy": "2021-05-31T10:51:19.749993Z",
          "iopub.status.idle": "2021-05-31T10:51:20.415299Z",
          "shell.execute_reply": "2021-05-31T10:51:20.414598Z",
          "shell.execute_reply.started": "2021-05-31T05:18:32.844208Z"
        },
        "papermill": {
          "duration": 0.771871,
          "end_time": "2021-05-31T10:51:20.415463",
          "exception": false,
          "start_time": "2021-05-31T10:51:19.643592",
          "status": "completed"
        },
        "tags": [],
        "id": "adult-miniature"
      },
      "source": [
        "# spearman\n",
        "plt.figure(figsize=(15,10))\n",
        "sns.heatmap(data.corr(method='spearman', min_periods=1),annot=True)"
      ],
      "id": "adult-miniature",
      "execution_count": null,
      "outputs": []
    },
    {
      "cell_type": "markdown",
      "metadata": {
        "papermill": {
          "duration": 0.096658,
          "end_time": "2021-05-31T10:51:20.610110",
          "exception": false,
          "start_time": "2021-05-31T10:51:20.513452",
          "status": "completed"
        },
        "tags": [],
        "id": "running-punch"
      },
      "source": [
        "**Findings** \n",
        "\n",
        "Are there feature(s) that we could do without due to having high correlation with another feature?\n",
        "\n",
        "After looking at Pearson, Kendall and Spearman correlation, we can see that there are a few features that might be considered for elimination due to high correlation.\n",
        "\n",
        "- life_expect, due to high correlation with child mortality\n",
        "- total_fertility, due to high correlation with child mortality\n",
        "- income, due to high correlation with gdpp\n"
      ],
      "id": "running-punch"
    },
    {
      "cell_type": "markdown",
      "metadata": {
        "papermill": {
          "duration": 0.097188,
          "end_time": "2021-05-31T10:51:20.804164",
          "exception": false,
          "start_time": "2021-05-31T10:51:20.706976",
          "status": "completed"
        },
        "tags": [],
        "id": "single-print"
      },
      "source": [
        "### <a id='42'>4.2. Scaling</a>"
      ],
      "id": "single-print"
    },
    {
      "cell_type": "markdown",
      "metadata": {
        "papermill": {
          "duration": 0.099581,
          "end_time": "2021-05-31T10:51:21.000578",
          "exception": false,
          "start_time": "2021-05-31T10:51:20.900997",
          "status": "completed"
        },
        "tags": [],
        "id": "constitutional-clerk"
      },
      "source": [
        "Why scale the data in this case? \n",
        "\n",
        "* the features have incomparable units (metrics are percentages, dollar values, whole numbers)\n",
        "* the range values of the features also vary (one for example is 0 to 200, and another 0 to 100,000), so here for example, a change of 50 in one feature is quite significant, whereas in another it is almost unnoticeable\n",
        "* this level of variance can negatively impact the performance of this model, as this model is based on measuring distances, it can do this by giving more weight to some features \n",
        "* by scaling we are removing potential bias that the model can have towards features with higher magnitudes\n"
      ],
      "id": "constitutional-clerk"
    },
    {
      "cell_type": "code",
      "metadata": {
        "execution": {
          "iopub.execute_input": "2021-05-31T10:51:21.217596Z",
          "iopub.status.busy": "2021-05-31T10:51:21.216671Z",
          "iopub.status.idle": "2021-05-31T10:51:21.220793Z",
          "shell.execute_reply": "2021-05-31T10:51:21.220176Z",
          "shell.execute_reply.started": "2021-05-31T05:18:33.455362Z"
        },
        "papermill": {
          "duration": 0.120499,
          "end_time": "2021-05-31T10:51:21.220926",
          "exception": false,
          "start_time": "2021-05-31T10:51:21.100427",
          "status": "completed"
        },
        "tags": [],
        "id": "transparent-floating"
      },
      "source": [
        "# eliminate the column that contains the country information, as only numeric values should be used in this case for unsupervised learning\n",
        "dataset = data.drop(['country'], axis =1)\n",
        "dataset.head()"
      ],
      "id": "transparent-floating",
      "execution_count": null,
      "outputs": []
    },
    {
      "cell_type": "markdown",
      "metadata": {
        "papermill": {
          "duration": 0.09722,
          "end_time": "2021-05-31T10:51:21.415916",
          "exception": false,
          "start_time": "2021-05-31T10:51:21.318696",
          "status": "completed"
        },
        "tags": [],
        "id": "british-formula"
      },
      "source": [
        "#### Scale the data: MinMaxScaler (normalised)"
      ],
      "id": "british-formula"
    },
    {
      "cell_type": "code",
      "metadata": {
        "execution": {
          "iopub.execute_input": "2021-05-31T10:51:21.622105Z",
          "iopub.status.busy": "2021-05-31T10:51:21.619837Z",
          "iopub.status.idle": "2021-05-31T10:51:21.629003Z",
          "shell.execute_reply": "2021-05-31T10:51:21.628342Z",
          "shell.execute_reply.started": "2021-05-31T05:18:33.474447Z"
        },
        "papermill": {
          "duration": 0.115269,
          "end_time": "2021-05-31T10:51:21.629145",
          "exception": false,
          "start_time": "2021-05-31T10:51:21.513876",
          "status": "completed"
        },
        "tags": [],
        "id": "material-manner"
      },
      "source": [
        "# columns argument ==> we'll use this later to create a new dataframe with the rescaled data \n",
        "columns = dataset.columns\n",
        "\n",
        "# the scaler to use will be \n",
        "scaler = MinMaxScaler()\n",
        "\n",
        "# 'scaler' is for the rescaling technique, 'fit' function is to find the x_min and the x_max, 'transform' function applies formula to all elements of data\n",
        "rescaled_dataset_minmax = scaler.fit_transform(dataset)\n",
        "rescaled_dataset_minmax"
      ],
      "id": "material-manner",
      "execution_count": null,
      "outputs": []
    },
    {
      "cell_type": "markdown",
      "metadata": {
        "papermill": {
          "duration": 0.098806,
          "end_time": "2021-05-31T10:51:21.827677",
          "exception": false,
          "start_time": "2021-05-31T10:51:21.728871",
          "status": "completed"
        },
        "tags": [],
        "id": "terminal-pharmacy"
      },
      "source": [
        "#### Scale the data: StandardScaler (standardised)"
      ],
      "id": "terminal-pharmacy"
    },
    {
      "cell_type": "code",
      "metadata": {
        "execution": {
          "iopub.execute_input": "2021-05-31T10:51:22.037334Z",
          "iopub.status.busy": "2021-05-31T10:51:22.034962Z",
          "iopub.status.idle": "2021-05-31T10:51:22.044598Z",
          "shell.execute_reply": "2021-05-31T10:51:22.043863Z",
          "shell.execute_reply.started": "2021-05-31T05:18:33.494027Z"
        },
        "papermill": {
          "duration": 0.118923,
          "end_time": "2021-05-31T10:51:22.044752",
          "exception": false,
          "start_time": "2021-05-31T10:51:21.925829",
          "status": "completed"
        },
        "tags": [],
        "id": "sitting-modification"
      },
      "source": [
        "# in standardisation, all features will be transformed to have the properties of standard normal distribution with mean=0 and standard deviation=1\n",
        "# \n",
        "# columns argument ==> we'll use this later to create a new dataframe with the rescaled data \n",
        "columns = dataset.columns\n",
        "\n",
        "# the scaler to use will be \n",
        "scaler = StandardScaler()\n",
        "\n",
        "# 'scaler' is for the rescaling technique, 'fit' function is to find the x_min and the x_max, 'transform' function applies formula to all elements of data\n",
        "rescaled_dataset_standard = scaler.fit_transform(dataset)\n",
        "rescaled_dataset_standard"
      ],
      "id": "sitting-modification",
      "execution_count": null,
      "outputs": []
    },
    {
      "cell_type": "markdown",
      "metadata": {
        "papermill": {
          "duration": 0.098174,
          "end_time": "2021-05-31T10:51:22.243266",
          "exception": false,
          "start_time": "2021-05-31T10:51:22.145092",
          "status": "completed"
        },
        "tags": [],
        "id": "brazilian-dialogue"
      },
      "source": [
        "#### Scaled dataframes"
      ],
      "id": "brazilian-dialogue"
    },
    {
      "cell_type": "code",
      "metadata": {
        "execution": {
          "iopub.execute_input": "2021-05-31T10:51:22.464611Z",
          "iopub.status.busy": "2021-05-31T10:51:22.463618Z",
          "iopub.status.idle": "2021-05-31T10:51:22.468649Z",
          "shell.execute_reply": "2021-05-31T10:51:22.468070Z",
          "shell.execute_reply.started": "2021-05-31T05:18:33.509856Z"
        },
        "papermill": {
          "duration": 0.125364,
          "end_time": "2021-05-31T10:51:22.468807",
          "exception": false,
          "start_time": "2021-05-31T10:51:22.343443",
          "status": "completed"
        },
        "tags": [],
        "id": "vertical-fence"
      },
      "source": [
        "# minmax\n",
        "# we need to create a new dataframe with the column lables and the rescaled values \n",
        "df_minmax = pd.DataFrame(data= rescaled_dataset_minmax , columns = columns )\n",
        "df_minmax"
      ],
      "id": "vertical-fence",
      "execution_count": null,
      "outputs": []
    },
    {
      "cell_type": "code",
      "metadata": {
        "execution": {
          "iopub.execute_input": "2021-05-31T10:51:22.689768Z",
          "iopub.status.busy": "2021-05-31T10:51:22.682182Z",
          "iopub.status.idle": "2021-05-31T10:51:22.696154Z",
          "shell.execute_reply": "2021-05-31T10:51:22.696694Z",
          "shell.execute_reply.started": "2021-05-31T05:18:33.536903Z"
        },
        "papermill": {
          "duration": 0.126603,
          "end_time": "2021-05-31T10:51:22.696915",
          "exception": false,
          "start_time": "2021-05-31T10:51:22.570312",
          "status": "completed"
        },
        "tags": [],
        "id": "african-stand"
      },
      "source": [
        "# standardisation\n",
        "# we need to create a new dataframe with the column lables and the rescaled values \n",
        "df_standard = pd.DataFrame(data= rescaled_dataset_standard , columns = columns)\n",
        "df_standard"
      ],
      "id": "african-stand",
      "execution_count": null,
      "outputs": []
    },
    {
      "cell_type": "markdown",
      "metadata": {
        "papermill": {
          "duration": 0.100293,
          "end_time": "2021-05-31T10:51:22.897615",
          "exception": false,
          "start_time": "2021-05-31T10:51:22.797322",
          "status": "completed"
        },
        "tags": [],
        "id": "coated-orbit"
      },
      "source": [
        "#### Comparing scaling methods"
      ],
      "id": "coated-orbit"
    },
    {
      "cell_type": "code",
      "metadata": {
        "execution": {
          "iopub.execute_input": "2021-05-31T10:51:23.123650Z",
          "iopub.status.busy": "2021-05-31T10:51:23.116654Z",
          "iopub.status.idle": "2021-05-31T10:51:23.273635Z",
          "shell.execute_reply": "2021-05-31T10:51:23.274154Z",
          "shell.execute_reply.started": "2021-05-31T05:18:33.561100Z"
        },
        "papermill": {
          "duration": 0.274443,
          "end_time": "2021-05-31T10:51:23.274361",
          "exception": false,
          "start_time": "2021-05-31T10:51:22.999918",
          "status": "completed"
        },
        "tags": [],
        "id": "athletic-magazine"
      },
      "source": [
        "plt.scatter(df_standard['gdpp'], df_standard['child_mort'],color = 'black')\n",
        "plt.scatter\n",
        "\n",
        "plt.xlabel('GDP per Person')\n",
        "plt.ylabel('Child Mortality')"
      ],
      "id": "athletic-magazine",
      "execution_count": null,
      "outputs": []
    },
    {
      "cell_type": "code",
      "metadata": {
        "execution": {
          "iopub.execute_input": "2021-05-31T10:51:23.479414Z",
          "iopub.status.busy": "2021-05-31T10:51:23.478788Z",
          "iopub.status.idle": "2021-05-31T10:51:23.633933Z",
          "shell.execute_reply": "2021-05-31T10:51:23.634432Z",
          "shell.execute_reply.started": "2021-05-31T05:18:33.722598Z"
        },
        "papermill": {
          "duration": 0.259493,
          "end_time": "2021-05-31T10:51:23.634631",
          "exception": false,
          "start_time": "2021-05-31T10:51:23.375138",
          "status": "completed"
        },
        "tags": [],
        "id": "great-equivalent"
      },
      "source": [
        "plt.scatter(df_minmax['gdpp'], df_minmax['child_mort'],color = 'black')\n",
        "plt.scatter\n",
        "\n",
        "plt.xlabel('GDP per Person')\n",
        "plt.ylabel('Child Mortality')"
      ],
      "id": "great-equivalent",
      "execution_count": null,
      "outputs": []
    },
    {
      "cell_type": "markdown",
      "metadata": {
        "papermill": {
          "duration": 0.103552,
          "end_time": "2021-05-31T10:51:23.839807",
          "exception": false,
          "start_time": "2021-05-31T10:51:23.736255",
          "status": "completed"
        },
        "tags": [],
        "id": "sustainable-armenia"
      },
      "source": [
        "### <a id='423'>4.3. PCA: Principal Component Analysis</a>"
      ],
      "id": "sustainable-armenia"
    },
    {
      "cell_type": "markdown",
      "metadata": {
        "papermill": {
          "duration": 0.112825,
          "end_time": "2021-05-31T10:51:24.055231",
          "exception": false,
          "start_time": "2021-05-31T10:51:23.942406",
          "status": "completed"
        },
        "tags": [],
        "id": "active-financing"
      },
      "source": [
        "#### PCA with data scaled with StandardScaler"
      ],
      "id": "active-financing"
    },
    {
      "cell_type": "code",
      "metadata": {
        "execution": {
          "iopub.execute_input": "2021-05-31T10:51:24.286547Z",
          "iopub.status.busy": "2021-05-31T10:51:24.272146Z",
          "iopub.status.idle": "2021-05-31T10:51:24.601223Z",
          "shell.execute_reply": "2021-05-31T10:51:24.601829Z",
          "shell.execute_reply.started": "2021-05-31T05:18:33.874996Z"
        },
        "papermill": {
          "duration": 0.440309,
          "end_time": "2021-05-31T10:51:24.602003",
          "exception": false,
          "start_time": "2021-05-31T10:51:24.161694",
          "status": "completed"
        },
        "tags": [],
        "id": "encouraging-incident"
      },
      "source": [
        "# import PCA \n",
        "from sklearn.decomposition import PCA\n",
        "\n",
        "# fit and transform\n",
        "pca = PCA()\n",
        "pca.fit(df_standard)\n",
        "pca_data_standard = pca.transform(df_standard)\n",
        "\n",
        "# percentage variation \n",
        "per_var = np.round(pca.explained_variance_ratio_*100, decimals =1)\n",
        "labels = ['PC' + str(x) for x in range (1, len(per_var)+1)]\n",
        "\n",
        "# plot the percentage of explained variance by principal component\n",
        "plt.bar(x=range(1,len(per_var)+1), height=per_var, tick_label = labels)\n",
        "plt.ylabel('Percentage of Explained Variance')\n",
        "plt.xlabel('Principal Component')\n",
        "plt.title('Scree Plot')\n",
        "plt.show()\n",
        "\n",
        "# plot pca\n",
        "pca_df_standard = pd.DataFrame(pca_data_standard, columns = labels)\n",
        "plt.scatter(pca_df_standard.PC1, pca_df_standard.PC2)\n",
        "plt.title('PCA')\n",
        "plt.xlabel('PC1 - {0}%'.format(per_var[0]))\n",
        "plt.ylabel('PC2 - {0}%'.format(per_var[1]))"
      ],
      "id": "encouraging-incident",
      "execution_count": null,
      "outputs": []
    },
    {
      "cell_type": "markdown",
      "metadata": {
        "papermill": {
          "duration": 0.106699,
          "end_time": "2021-05-31T10:51:24.814089",
          "exception": false,
          "start_time": "2021-05-31T10:51:24.707390",
          "status": "completed"
        },
        "tags": [],
        "id": "labeled-folks"
      },
      "source": [
        "#### PCA with data scaled with MinMaxScaler"
      ],
      "id": "labeled-folks"
    },
    {
      "cell_type": "code",
      "metadata": {
        "execution": {
          "iopub.execute_input": "2021-05-31T10:51:25.027024Z",
          "iopub.status.busy": "2021-05-31T10:51:25.026400Z",
          "iopub.status.idle": "2021-05-31T10:51:25.376385Z",
          "shell.execute_reply": "2021-05-31T10:51:25.376931Z",
          "shell.execute_reply.started": "2021-05-31T05:18:34.178606Z"
        },
        "papermill": {
          "duration": 0.458679,
          "end_time": "2021-05-31T10:51:25.377132",
          "exception": false,
          "start_time": "2021-05-31T10:51:24.918453",
          "status": "completed"
        },
        "tags": [],
        "id": "fewer-organ"
      },
      "source": [
        "# import PCA \n",
        "from sklearn.decomposition import PCA\n",
        "\n",
        "# fit and transform\n",
        "pca = PCA()\n",
        "pca.fit(df_minmax)\n",
        "pca_data_minmax = pca.transform(df_minmax)\n",
        "\n",
        "# percentage variation \n",
        "per_var = np.round(pca.explained_variance_ratio_*100, decimals =1)\n",
        "labels = ['PC' + str(x) for x in range (1, len(per_var)+1)]\n",
        "\n",
        "# plot the percentage of explained variance by principal component\n",
        "plt.bar(x=range(1,len(per_var)+1), height=per_var, tick_label = labels)\n",
        "plt.ylabel('Percentage of Explained Variance')\n",
        "plt.xlabel('Principal Component')\n",
        "plt.title('Scree Plot')\n",
        "plt.show()\n",
        "\n",
        "# plot pca\n",
        "\n",
        "pca_df_minmax = pd.DataFrame(pca_data_minmax, columns = labels)\n",
        "plt.scatter(pca_df_minmax.PC1, pca_df_minmax.PC2)\n",
        "plt.title('PCA')\n",
        "plt.xlabel('PC1 - {0}%'.format(per_var[0]))\n",
        "plt.ylabel('PC2 - {0}%'.format(per_var[1]))"
      ],
      "id": "fewer-organ",
      "execution_count": null,
      "outputs": []
    },
    {
      "cell_type": "code",
      "metadata": {
        "execution": {
          "iopub.execute_input": "2021-05-31T10:51:25.596530Z",
          "iopub.status.busy": "2021-05-31T10:51:25.595864Z",
          "iopub.status.idle": "2021-05-31T10:51:25.610676Z",
          "shell.execute_reply": "2021-05-31T10:51:25.611252Z",
          "shell.execute_reply.started": "2021-05-31T05:18:34.508155Z"
        },
        "papermill": {
          "duration": 0.1264,
          "end_time": "2021-05-31T10:51:25.611470",
          "exception": false,
          "start_time": "2021-05-31T10:51:25.485070",
          "status": "completed"
        },
        "tags": [],
        "id": "diagnostic-omaha"
      },
      "source": [
        "# dataframe with PC1, PC2, P3, PC4\n",
        "data2 = pca_df_standard.drop(['PC5','PC6','PC7','PC8','PC9'], axis = 1)\n",
        "data2"
      ],
      "id": "diagnostic-omaha",
      "execution_count": null,
      "outputs": []
    },
    {
      "cell_type": "markdown",
      "metadata": {
        "papermill": {
          "duration": 0.108113,
          "end_time": "2021-05-31T10:51:25.827081",
          "exception": false,
          "start_time": "2021-05-31T10:51:25.718968",
          "status": "completed"
        },
        "tags": [],
        "id": "deadly-child"
      },
      "source": [
        "**Findings**\n",
        "\n",
        "After doing PCA with both standardised and normalised versions of the original dataset, we can see that there are 4 principal components can explain about 90% of the distribution of the original data.\n"
      ],
      "id": "deadly-child"
    },
    {
      "cell_type": "markdown",
      "metadata": {
        "papermill": {
          "duration": 0.109131,
          "end_time": "2021-05-31T10:51:26.045375",
          "exception": false,
          "start_time": "2021-05-31T10:51:25.936244",
          "status": "completed"
        },
        "tags": [],
        "id": "legendary-faith"
      },
      "source": [
        "## <a id='5'>5. Model: K-Means Clustering</a>"
      ],
      "id": "legendary-faith"
    },
    {
      "cell_type": "markdown",
      "metadata": {
        "papermill": {
          "duration": 0.108355,
          "end_time": "2021-05-31T10:51:26.263792",
          "exception": false,
          "start_time": "2021-05-31T10:51:26.155437",
          "status": "completed"
        },
        "tags": [],
        "id": "collectible-riverside"
      },
      "source": [
        "### <a id='51'>5.1. Model set up</a>"
      ],
      "id": "collectible-riverside"
    },
    {
      "cell_type": "code",
      "metadata": {
        "execution": {
          "iopub.execute_input": "2021-05-31T10:51:26.485007Z",
          "iopub.status.busy": "2021-05-31T10:51:26.484337Z",
          "iopub.status.idle": "2021-05-31T10:51:26.489067Z",
          "shell.execute_reply": "2021-05-31T10:51:26.489601Z",
          "shell.execute_reply.started": "2021-05-31T05:18:34.525337Z"
        },
        "papermill": {
          "duration": 0.116846,
          "end_time": "2021-05-31T10:51:26.489795",
          "exception": false,
          "start_time": "2021-05-31T10:51:26.372949",
          "status": "completed"
        },
        "tags": [],
        "id": "hearing-scenario"
      },
      "source": [
        "km = KMeans (\n",
        "    n_clusters = 3, # number of clusters/centroids to create\n",
        "    init = 'random', # ‘random’: choose n_clusters observations (rows) at random from data for the initial centroids\n",
        "    n_init = 10, # this is the default value. This is the number of times the k-means algorithm will be run with different centroid seeds\n",
        "    max_iter = 300, # this is the default value. This is the maximum number of iterations of the k-means algorithm for a single run.\n",
        "    tol = 1e-4, # this is the default value. This is the relative tolerance with regards to Frobenius norm of the difference in the cluster centers of two consecutive iterations to declare convergence.\n",
        "    random_state = 0 # this is the default value. Determines random number generation for centroid initialization. Use an int to make the randomness deterministic.\n",
        ")"
      ],
      "id": "hearing-scenario",
      "execution_count": null,
      "outputs": []
    },
    {
      "cell_type": "markdown",
      "metadata": {
        "papermill": {
          "duration": 0.107401,
          "end_time": "2021-05-31T10:51:26.705339",
          "exception": false,
          "start_time": "2021-05-31T10:51:26.597938",
          "status": "completed"
        },
        "tags": [],
        "id": "casual-hostel"
      },
      "source": [
        "#### Run model with different versions on the dataset"
      ],
      "id": "casual-hostel"
    },
    {
      "cell_type": "code",
      "metadata": {
        "execution": {
          "iopub.execute_input": "2021-05-31T10:51:26.924754Z",
          "iopub.status.busy": "2021-05-31T10:51:26.924083Z",
          "iopub.status.idle": "2021-05-31T10:51:26.961508Z",
          "shell.execute_reply": "2021-05-31T10:51:26.960925Z",
          "shell.execute_reply.started": "2021-05-31T05:18:34.534756Z"
        },
        "papermill": {
          "duration": 0.149219,
          "end_time": "2021-05-31T10:51:26.961659",
          "exception": false,
          "start_time": "2021-05-31T10:51:26.812440",
          "status": "completed"
        },
        "tags": [],
        "id": "interstate-colors"
      },
      "source": [
        "# normalised dataset\n",
        "# method to compute the clusters and assign the labels\n",
        "y_predicted_minmax = km.fit_predict(df_minmax) # fit_predict --> Compute cluster centers and predict cluster index for each sample.\n",
        "y_predicted_minmax"
      ],
      "id": "interstate-colors",
      "execution_count": null,
      "outputs": []
    },
    {
      "cell_type": "code",
      "metadata": {
        "execution": {
          "iopub.execute_input": "2021-05-31T10:51:27.190436Z",
          "iopub.status.busy": "2021-05-31T10:51:27.189705Z",
          "iopub.status.idle": "2021-05-31T10:51:27.220631Z",
          "shell.execute_reply": "2021-05-31T10:51:27.219965Z",
          "shell.execute_reply.started": "2021-05-31T05:18:34.582301Z"
        },
        "papermill": {
          "duration": 0.147656,
          "end_time": "2021-05-31T10:51:27.220772",
          "exception": false,
          "start_time": "2021-05-31T10:51:27.073116",
          "status": "completed"
        },
        "tags": [],
        "id": "terminal-abuse"
      },
      "source": [
        "# standardised dataset\n",
        "# method to compute the clusters and assign the labels\n",
        "y_predicted_standard = km.fit_predict(df_standard) # fit_predict --> Compute cluster centers and predict cluster index for each sample.\n",
        "y_predicted_standard"
      ],
      "id": "terminal-abuse",
      "execution_count": null,
      "outputs": []
    },
    {
      "cell_type": "code",
      "metadata": {
        "execution": {
          "iopub.execute_input": "2021-05-31T10:51:27.445396Z",
          "iopub.status.busy": "2021-05-31T10:51:27.444357Z",
          "iopub.status.idle": "2021-05-31T10:51:27.473886Z",
          "shell.execute_reply": "2021-05-31T10:51:27.473369Z",
          "shell.execute_reply.started": "2021-05-31T05:18:34.617821Z"
        },
        "papermill": {
          "duration": 0.145618,
          "end_time": "2021-05-31T10:51:27.474043",
          "exception": false,
          "start_time": "2021-05-31T10:51:27.328425",
          "status": "completed"
        },
        "tags": [],
        "id": "beneficial-stranger"
      },
      "source": [
        "# data2 is the original dataset with standard scaling and 4 principal components found with PCA\n",
        "# method to compute the clusters and assign the labels\n",
        "y_predicted_data2 = km.fit_predict(data2) # fit_predict --> Compute cluster centers and predict cluster index for each sample.\n",
        "y_predicted_data2"
      ],
      "id": "beneficial-stranger",
      "execution_count": null,
      "outputs": []
    },
    {
      "cell_type": "code",
      "metadata": {
        "execution": {
          "iopub.execute_input": "2021-05-31T10:51:27.709001Z",
          "iopub.status.busy": "2021-05-31T10:51:27.708342Z",
          "iopub.status.idle": "2021-05-31T10:51:27.711468Z",
          "shell.execute_reply": "2021-05-31T10:51:27.711981Z",
          "shell.execute_reply.started": "2021-05-31T05:18:34.651613Z"
        },
        "papermill": {
          "duration": 0.12797,
          "end_time": "2021-05-31T10:51:27.712188",
          "exception": false,
          "start_time": "2021-05-31T10:51:27.584218",
          "status": "completed"
        },
        "tags": [],
        "id": "stainless-football"
      },
      "source": [
        "# add the cluster column to the dataframe \n",
        "df_minmax['cluster'] = y_predicted_minmax\n",
        "df_minmax.head()"
      ],
      "id": "stainless-football",
      "execution_count": null,
      "outputs": []
    },
    {
      "cell_type": "code",
      "metadata": {
        "execution": {
          "iopub.execute_input": "2021-05-31T10:51:27.934299Z",
          "iopub.status.busy": "2021-05-31T10:51:27.933651Z",
          "iopub.status.idle": "2021-05-31T10:51:27.951184Z",
          "shell.execute_reply": "2021-05-31T10:51:27.950652Z",
          "shell.execute_reply.started": "2021-05-31T05:18:34.668622Z"
        },
        "papermill": {
          "duration": 0.129865,
          "end_time": "2021-05-31T10:51:27.951354",
          "exception": false,
          "start_time": "2021-05-31T10:51:27.821489",
          "status": "completed"
        },
        "tags": [],
        "id": "saved-reasoning"
      },
      "source": [
        "# add the cluster column to the dataframe \n",
        "df_standard['cluster'] = y_predicted_standard\n",
        "df_standard.head()"
      ],
      "id": "saved-reasoning",
      "execution_count": null,
      "outputs": []
    },
    {
      "cell_type": "code",
      "metadata": {
        "execution": {
          "iopub.execute_input": "2021-05-31T10:51:28.221627Z",
          "iopub.status.busy": "2021-05-31T10:51:28.220965Z",
          "iopub.status.idle": "2021-05-31T10:51:28.225826Z",
          "shell.execute_reply": "2021-05-31T10:51:28.225312Z",
          "shell.execute_reply.started": "2021-05-31T05:18:34.691995Z"
        },
        "papermill": {
          "duration": 0.135519,
          "end_time": "2021-05-31T10:51:28.225972",
          "exception": false,
          "start_time": "2021-05-31T10:51:28.090453",
          "status": "completed"
        },
        "tags": [],
        "id": "equipped-measurement"
      },
      "source": [
        "# add the cluster column to the dataframe (dataset does not include feature 'country')\n",
        "dataset['cluster'] = y_predicted_data2\n",
        "dataset.head()"
      ],
      "id": "equipped-measurement",
      "execution_count": null,
      "outputs": []
    },
    {
      "cell_type": "markdown",
      "metadata": {
        "papermill": {
          "duration": 0.111232,
          "end_time": "2021-05-31T10:51:28.446800",
          "exception": false,
          "start_time": "2021-05-31T10:51:28.335568",
          "status": "completed"
        },
        "tags": [],
        "id": "romance-marker"
      },
      "source": [
        "### <a id='52'>5.2. Optimal number of clusters: Elbow Method</a>"
      ],
      "id": "romance-marker"
    },
    {
      "cell_type": "code",
      "metadata": {
        "execution": {
          "iopub.execute_input": "2021-05-31T10:51:28.678879Z",
          "iopub.status.busy": "2021-05-31T10:51:28.678041Z",
          "iopub.status.idle": "2021-05-31T10:51:29.201833Z",
          "shell.execute_reply": "2021-05-31T10:51:29.200215Z",
          "shell.execute_reply.started": "2021-05-31T05:18:34.715548Z"
        },
        "papermill": {
          "duration": 0.644118,
          "end_time": "2021-05-31T10:51:29.202007",
          "exception": false,
          "start_time": "2021-05-31T10:51:28.557889",
          "status": "completed"
        },
        "tags": [],
        "id": "dedicated-worst"
      },
      "source": [
        "# calculate Sum of Squared Errors (SSE), also called distorsions,  for a range of number of cluster - with df scaled with StandardScaler\n",
        "\n",
        "sse = []\n",
        "for i in range(1, 11):\n",
        "    km = KMeans(\n",
        "        n_clusters=i, init='random',\n",
        "        n_init=10, max_iter=300,\n",
        "        tol=1e-04, random_state=0\n",
        "    )\n",
        "    km.fit(df_standard)\n",
        "    sse.append(km.inertia_)\n",
        "\n",
        "# plot\n",
        "plt.plot(range(1, 11), sse, marker='o')\n",
        "plt.xlabel('Number of clusters')\n",
        "plt.ylabel('SSE')\n",
        "plt.show()"
      ],
      "id": "dedicated-worst",
      "execution_count": null,
      "outputs": []
    },
    {
      "cell_type": "code",
      "metadata": {
        "execution": {
          "iopub.execute_input": "2021-05-31T10:51:29.437716Z",
          "iopub.status.busy": "2021-05-31T10:51:29.436698Z",
          "iopub.status.idle": "2021-05-31T10:51:29.803947Z",
          "shell.execute_reply": "2021-05-31T10:51:29.803301Z",
          "shell.execute_reply.started": "2021-05-31T05:18:35.213603Z"
        },
        "papermill": {
          "duration": 0.489504,
          "end_time": "2021-05-31T10:51:29.804099",
          "exception": false,
          "start_time": "2021-05-31T10:51:29.314595",
          "status": "completed"
        },
        "tags": [],
        "id": "limiting-escape"
      },
      "source": [
        "# calculate Sum of Squared Errors (SSE), also called distorsions, for a range of number of cluster - with df scaled with MinMax\n",
        "\n",
        "sse = []\n",
        "for i in range(1, 11):\n",
        "    km = KMeans(\n",
        "        n_clusters=i, init='random',\n",
        "        n_init=10, max_iter=300,\n",
        "        tol=1e-04, random_state=0\n",
        "    )\n",
        "    km.fit(df_minmax)\n",
        "    sse.append(km.inertia_)\n",
        "\n",
        "# plot\n",
        "plt.plot(range(1, 11), sse, marker='o')\n",
        "plt.xlabel('Number of clusters')\n",
        "plt.ylabel('SSE')\n",
        "plt.show()"
      ],
      "id": "limiting-escape",
      "execution_count": null,
      "outputs": []
    },
    {
      "cell_type": "code",
      "metadata": {
        "execution": {
          "iopub.execute_input": "2021-05-31T10:51:30.040116Z",
          "iopub.status.busy": "2021-05-31T10:51:30.039089Z",
          "iopub.status.idle": "2021-05-31T10:51:30.581258Z",
          "shell.execute_reply": "2021-05-31T10:51:30.580603Z",
          "shell.execute_reply.started": "2021-05-31T05:18:35.576289Z"
        },
        "papermill": {
          "duration": 0.662838,
          "end_time": "2021-05-31T10:51:30.581430",
          "exception": false,
          "start_time": "2021-05-31T10:51:29.918592",
          "status": "completed"
        },
        "tags": [],
        "id": "modular-inspiration"
      },
      "source": [
        "# calculate Sum of Squared Errors (SSE), also called distorsions, for a range of number of cluster - with df scaled with StandardScaler + PCA\n",
        "sse = []\n",
        "for i in range(1, 11):\n",
        "    km = KMeans(\n",
        "        n_clusters=i, init='random',\n",
        "        n_init=10, max_iter=300,\n",
        "        tol=1e-04, random_state=0\n",
        "    )\n",
        "    km.fit(dataset)\n",
        "    sse.append(km.inertia_)\n",
        "\n",
        "# plot\n",
        "plt.plot(range(1, 11), sse, marker='o')\n",
        "plt.xlabel('Number of clusters')\n",
        "plt.ylabel('SSE')\n",
        "plt.show()"
      ],
      "id": "modular-inspiration",
      "execution_count": null,
      "outputs": []
    },
    {
      "cell_type": "markdown",
      "metadata": {
        "papermill": {
          "duration": 0.113279,
          "end_time": "2021-05-31T10:51:30.809219",
          "exception": false,
          "start_time": "2021-05-31T10:51:30.695940",
          "status": "completed"
        },
        "tags": [],
        "id": "spoken-advance"
      },
      "source": [
        "**Findings**\n",
        "\n",
        "After running the kmeans model with the a normalised dataset, a standardised dataset, and a PCA with 4 components (with standardised scaling) we can see that the optimal number of clusters is still 3 with different levels of inertia. Two clusters could also be considered as per results of dataset after PCA."
      ],
      "id": "spoken-advance"
    },
    {
      "cell_type": "markdown",
      "metadata": {
        "papermill": {
          "duration": 0.116224,
          "end_time": "2021-05-31T10:51:31.041395",
          "exception": false,
          "start_time": "2021-05-31T10:51:30.925171",
          "status": "completed"
        },
        "tags": [],
        "id": "recognized-homeless"
      },
      "source": [
        "### <a id='53'>5.3. Optimal number of clusters: Silhouette Method</a>"
      ],
      "id": "recognized-homeless"
    },
    {
      "cell_type": "markdown",
      "metadata": {
        "papermill": {
          "duration": 0.113999,
          "end_time": "2021-05-31T10:51:31.271238",
          "exception": false,
          "start_time": "2021-05-31T10:51:31.157239",
          "status": "completed"
        },
        "tags": [],
        "id": "known-principle"
      },
      "source": [
        "#### With standardised data\n",
        "\n"
      ],
      "id": "known-principle"
    },
    {
      "cell_type": "code",
      "metadata": {
        "execution": {
          "iopub.execute_input": "2021-05-31T10:51:31.511393Z",
          "iopub.status.busy": "2021-05-31T10:51:31.510088Z",
          "iopub.status.idle": "2021-05-31T10:51:31.517868Z",
          "shell.execute_reply": "2021-05-31T10:51:31.519032Z",
          "shell.execute_reply.started": "2021-05-31T05:18:36.362882Z"
        },
        "papermill": {
          "duration": 0.133924,
          "end_time": "2021-05-31T10:51:31.519386",
          "exception": false,
          "start_time": "2021-05-31T10:51:31.385462",
          "status": "completed"
        },
        "tags": [],
        "id": "assumed-constant"
      },
      "source": [
        "# calculate Silhoutte Score - stardardised\n",
        "score = silhouette_score(df_standard, km.labels_, metric='euclidean')\n",
        "print('Silhouette Score: %.3f' % score)\n",
        "\n",
        "# A value near 0 represents overlapping clusters with samples very close to the decision boundary of the neighboring clusters. "
      ],
      "id": "assumed-constant",
      "execution_count": null,
      "outputs": []
    },
    {
      "cell_type": "code",
      "metadata": {
        "execution": {
          "iopub.execute_input": "2021-05-31T10:51:31.808331Z",
          "iopub.status.busy": "2021-05-31T10:51:31.807609Z",
          "iopub.status.idle": "2021-05-31T10:51:32.794672Z",
          "shell.execute_reply": "2021-05-31T10:51:32.794010Z",
          "shell.execute_reply.started": "2021-05-31T05:18:36.383316Z"
        },
        "papermill": {
          "duration": 1.111537,
          "end_time": "2021-05-31T10:51:32.794825",
          "exception": false,
          "start_time": "2021-05-31T10:51:31.683288",
          "status": "completed"
        },
        "tags": [],
        "id": "reliable-auction"
      },
      "source": [
        "fig,ax = plt.subplots(2,2, figsize = (15,8))\n",
        "for i in [2,3,4,5]:\n",
        "\n",
        "    # create kmeans instance for different numbers of clusters\n",
        "    km = KMeans(n_clusters=i, init= 'random', n_init =10, max_iter = 300, random_state = 0)\n",
        "    q, mod = divmod(i,2)\n",
        "    \n",
        "    #create visualiser\n",
        "    visualizer = SilhouetteVisualizer(km, colors = 'yellowbrick', ax=ax[q-1][mod])\n",
        "    visualizer.fit(df_standard)"
      ],
      "id": "reliable-auction",
      "execution_count": null,
      "outputs": []
    },
    {
      "cell_type": "markdown",
      "metadata": {
        "papermill": {
          "duration": 0.115947,
          "end_time": "2021-05-31T10:51:33.026804",
          "exception": false,
          "start_time": "2021-05-31T10:51:32.910857",
          "status": "completed"
        },
        "tags": [],
        "id": "geological-textbook"
      },
      "source": [
        "#### With normalised data"
      ],
      "id": "geological-textbook"
    },
    {
      "cell_type": "code",
      "metadata": {
        "execution": {
          "iopub.execute_input": "2021-05-31T10:51:33.273295Z",
          "iopub.status.busy": "2021-05-31T10:51:33.272193Z",
          "iopub.status.idle": "2021-05-31T10:51:33.279996Z",
          "shell.execute_reply": "2021-05-31T10:51:33.280596Z",
          "shell.execute_reply.started": "2021-05-31T05:18:37.151673Z"
        },
        "papermill": {
          "duration": 0.137035,
          "end_time": "2021-05-31T10:51:33.280804",
          "exception": false,
          "start_time": "2021-05-31T10:51:33.143769",
          "status": "completed"
        },
        "tags": [],
        "id": "preliminary-march"
      },
      "source": [
        "# Calculate Silhoutte Score - normalised\n",
        "score = silhouette_score(df_minmax, km.labels_, metric='euclidean')\n",
        "print('Silhouette Score: %.3f' % score)\n",
        "\n",
        "# # A value near 0 represents overlapping clusters with samples very close to the decision boundary of the neighboring clusters. "
      ],
      "id": "preliminary-march",
      "execution_count": null,
      "outputs": []
    },
    {
      "cell_type": "code",
      "metadata": {
        "execution": {
          "iopub.execute_input": "2021-05-31T10:51:33.572965Z",
          "iopub.status.busy": "2021-05-31T10:51:33.571955Z",
          "iopub.status.idle": "2021-05-31T10:51:34.302080Z",
          "shell.execute_reply": "2021-05-31T10:51:34.302544Z",
          "shell.execute_reply.started": "2021-05-31T05:18:37.169011Z"
        },
        "papermill": {
          "duration": 0.85359,
          "end_time": "2021-05-31T10:51:34.302763",
          "exception": false,
          "start_time": "2021-05-31T10:51:33.449173",
          "status": "completed"
        },
        "tags": [],
        "id": "coordinate-feeding"
      },
      "source": [
        "fig,ax = plt.subplots(2,2, figsize = (15,8))\n",
        "for i in [2,3,4,5]:\n",
        "\n",
        "    # create kmeans instance for different numbers of clusters\n",
        "    km = KMeans(n_clusters=i, init= 'random', n_init =10, max_iter = 300, random_state = 0)\n",
        "    q, mod = divmod(i,2)\n",
        "    \n",
        "    #create visualiser\n",
        "    visualizer = SilhouetteVisualizer(km, colors = 'yellowbrick', ax=ax[q-1][mod])\n",
        "    visualizer.fit(df_minmax)"
      ],
      "id": "coordinate-feeding",
      "execution_count": null,
      "outputs": []
    },
    {
      "cell_type": "markdown",
      "metadata": {
        "papermill": {
          "duration": 0.11535,
          "end_time": "2021-05-31T10:51:34.535245",
          "exception": false,
          "start_time": "2021-05-31T10:51:34.419895",
          "status": "completed"
        },
        "tags": [],
        "id": "vital-contamination"
      },
      "source": [
        "#### With standardised data + PCA"
      ],
      "id": "vital-contamination"
    },
    {
      "cell_type": "code",
      "metadata": {
        "execution": {
          "iopub.execute_input": "2021-05-31T10:51:34.775659Z",
          "iopub.status.busy": "2021-05-31T10:51:34.774644Z",
          "iopub.status.idle": "2021-05-31T10:51:34.790108Z",
          "shell.execute_reply": "2021-05-31T10:51:34.790893Z",
          "shell.execute_reply.started": "2021-05-31T05:18:37.951981Z"
        },
        "papermill": {
          "duration": 0.137938,
          "end_time": "2021-05-31T10:51:34.791207",
          "exception": false,
          "start_time": "2021-05-31T10:51:34.653269",
          "status": "completed"
        },
        "tags": [],
        "id": "genuine-asian"
      },
      "source": [
        "# Calculate Silhoutte Score - stardardised + PCA\n",
        "score = silhouette_score(dataset, km.labels_, metric='euclidean')\n",
        "print('Silhouette Score: %.3f' % score)\n",
        "\n",
        "# A value near 0 represents overlapping clusters with samples very close to the decision boundary of the neighboring clusters. "
      ],
      "id": "genuine-asian",
      "execution_count": null,
      "outputs": []
    },
    {
      "cell_type": "code",
      "metadata": {
        "execution": {
          "iopub.execute_input": "2021-05-31T10:51:35.131215Z",
          "iopub.status.busy": "2021-05-31T10:51:35.117659Z",
          "iopub.status.idle": "2021-05-31T10:51:35.922638Z",
          "shell.execute_reply": "2021-05-31T10:51:35.921943Z",
          "shell.execute_reply.started": "2021-05-31T05:18:37.966775Z"
        },
        "papermill": {
          "duration": 0.96327,
          "end_time": "2021-05-31T10:51:35.922809",
          "exception": false,
          "start_time": "2021-05-31T10:51:34.959539",
          "status": "completed"
        },
        "tags": [],
        "id": "vietnamese-hurricane"
      },
      "source": [
        "fig,ax = plt.subplots(2,2, figsize = (15,8))\n",
        "for i in [2,3,4,5]:\n",
        "\n",
        "    # create kmeans instance for different numbers of clusters\n",
        "    km = KMeans(n_clusters=i, init= 'random', n_init =10, max_iter = 300, random_state = 0)\n",
        "    q, mod = divmod(i,2)\n",
        "    \n",
        "    #create visualiser\n",
        "    visualizer = SilhouetteVisualizer(km, colors = 'yellowbrick', ax=ax[q-1][mod])\n",
        "    visualizer.fit(dataset)"
      ],
      "id": "vietnamese-hurricane",
      "execution_count": null,
      "outputs": []
    },
    {
      "cell_type": "markdown",
      "metadata": {
        "papermill": {
          "duration": 0.119256,
          "end_time": "2021-05-31T10:51:36.162738",
          "exception": false,
          "start_time": "2021-05-31T10:51:36.043482",
          "status": "completed"
        },
        "tags": [],
        "id": "above-private"
      },
      "source": [
        "**Findings**\n",
        "\n",
        "Clusters are overlapping. An increase in clusters (to 5 for example) shows that there are negative values in the scale, meaning that this n of clusters might have samples that have been assigned to the wrong cluster."
      ],
      "id": "above-private"
    },
    {
      "cell_type": "markdown",
      "metadata": {
        "papermill": {
          "duration": 0.117271,
          "end_time": "2021-05-31T10:51:36.398155",
          "exception": false,
          "start_time": "2021-05-31T10:51:36.280884",
          "status": "completed"
        },
        "tags": [],
        "id": "great-patrol"
      },
      "source": [
        "## <a id='6'>6. Cluster analysis</a>"
      ],
      "id": "great-patrol"
    },
    {
      "cell_type": "markdown",
      "metadata": {
        "papermill": {
          "duration": 0.117843,
          "end_time": "2021-05-31T10:51:36.633893",
          "exception": false,
          "start_time": "2021-05-31T10:51:36.516050",
          "status": "completed"
        },
        "tags": [],
        "id": "preliminary-zoning"
      },
      "source": [
        "### <a id='61'>6.1. Cluster plotting and visualisation</a>"
      ],
      "id": "preliminary-zoning"
    },
    {
      "cell_type": "markdown",
      "metadata": {
        "papermill": {
          "duration": 0.117634,
          "end_time": "2021-05-31T10:51:36.869103",
          "exception": false,
          "start_time": "2021-05-31T10:51:36.751469",
          "status": "completed"
        },
        "tags": [],
        "id": "peaceful-accessory"
      },
      "source": [
        "#### Visualise clusters by feature, scaled data with StandardScaler (standardisation)"
      ],
      "id": "peaceful-accessory"
    },
    {
      "cell_type": "code",
      "metadata": {
        "execution": {
          "iopub.execute_input": "2021-05-31T10:51:37.113633Z",
          "iopub.status.busy": "2021-05-31T10:51:37.112970Z",
          "iopub.status.idle": "2021-05-31T10:52:01.653442Z",
          "shell.execute_reply": "2021-05-31T10:52:01.654015Z",
          "shell.execute_reply.started": "2021-05-31T05:18:38.826732Z"
        },
        "papermill": {
          "duration": 24.664328,
          "end_time": "2021-05-31T10:52:01.654207",
          "exception": false,
          "start_time": "2021-05-31T10:51:36.989879",
          "status": "completed"
        },
        "tags": [],
        "id": "alleged-bernard"
      },
      "source": [
        "# load example dataset from seaborn \n",
        "sns.get_dataset_names()\n",
        "\n",
        "# plot\n",
        "sns.load_dataset('penguins')\n",
        "sns.pairplot(df_standard, hue=\"cluster\")\n",
        "\n",
        "# title\n",
        "plt.suptitle('Pair Plot of Clusters by Feature', \n",
        "             size = 20);"
      ],
      "id": "alleged-bernard",
      "execution_count": null,
      "outputs": []
    },
    {
      "cell_type": "markdown",
      "metadata": {
        "papermill": {
          "duration": 0.143438,
          "end_time": "2021-05-31T10:52:01.938968",
          "exception": false,
          "start_time": "2021-05-31T10:52:01.795530",
          "status": "completed"
        },
        "tags": [],
        "id": "southeast-greece"
      },
      "source": [
        "#### Visualise clusters by feature, scaled data with MinMaxScaler (normalisation)"
      ],
      "id": "southeast-greece"
    },
    {
      "cell_type": "code",
      "metadata": {
        "execution": {
          "iopub.execute_input": "2021-05-31T10:52:02.233615Z",
          "iopub.status.busy": "2021-05-31T10:52:02.226803Z",
          "iopub.status.idle": "2021-05-31T10:52:26.802401Z",
          "shell.execute_reply": "2021-05-31T10:52:26.802912Z",
          "shell.execute_reply.started": "2021-05-31T05:19:01.693151Z"
        },
        "papermill": {
          "duration": 24.721934,
          "end_time": "2021-05-31T10:52:26.803101",
          "exception": false,
          "start_time": "2021-05-31T10:52:02.081167",
          "status": "completed"
        },
        "tags": [],
        "id": "worse-monte"
      },
      "source": [
        "# load example dataset from seaborn \n",
        "sns.get_dataset_names()\n",
        "\n",
        "# plot\n",
        "sns.load_dataset('penguins')\n",
        "sns.pairplot(df_minmax, hue=\"cluster\")\n",
        "\n",
        "# title\n",
        "plt.suptitle('Pair Plot of Clusters by Feature', \n",
        "             size = 20);"
      ],
      "id": "worse-monte",
      "execution_count": null,
      "outputs": []
    },
    {
      "cell_type": "markdown",
      "metadata": {
        "papermill": {
          "duration": 0.187608,
          "end_time": "2021-05-31T10:52:27.160596",
          "exception": false,
          "start_time": "2021-05-31T10:52:26.972988",
          "status": "completed"
        },
        "tags": [],
        "id": "artistic-smile"
      },
      "source": [
        "#### Visualise clusters by feature, scaled data with StandardScaler and with reduction of features with PCA"
      ],
      "id": "artistic-smile"
    },
    {
      "cell_type": "code",
      "metadata": {
        "execution": {
          "iopub.execute_input": "2021-05-31T10:52:27.491171Z",
          "iopub.status.busy": "2021-05-31T10:52:27.490496Z",
          "iopub.status.idle": "2021-05-31T10:52:52.319848Z",
          "shell.execute_reply": "2021-05-31T10:52:52.320371Z",
          "shell.execute_reply.started": "2021-05-31T05:19:24.102277Z"
        },
        "papermill": {
          "duration": 24.995509,
          "end_time": "2021-05-31T10:52:52.320577",
          "exception": false,
          "start_time": "2021-05-31T10:52:27.325068",
          "status": "completed"
        },
        "tags": [],
        "id": "maritime-spirituality"
      },
      "source": [
        "# load example dataset from seaborn \n",
        "sns.get_dataset_names()\n",
        "\n",
        "# plot\n",
        "sns.load_dataset('penguins')\n",
        "sns.pairplot(dataset, hue=\"cluster\")\n",
        "\n",
        "# title\n",
        "plt.suptitle('Pair Plot of Clusters by Feature', \n",
        "             size = 20);"
      ],
      "id": "maritime-spirituality",
      "execution_count": null,
      "outputs": []
    },
    {
      "cell_type": "markdown",
      "metadata": {
        "papermill": {
          "duration": 0.184957,
          "end_time": "2021-05-31T10:52:52.695803",
          "exception": false,
          "start_time": "2021-05-31T10:52:52.510846",
          "status": "completed"
        },
        "tags": [],
        "id": "racial-breath"
      },
      "source": [
        "**Findings**\n",
        "\n",
        "After running the model with 2 types of scaling and using PCA, we can see there tends to be overlapping between clusters.\n",
        "Cluster 2 is more spread out and clusters 0 and 1 tend to overlap."
      ],
      "id": "racial-breath"
    },
    {
      "cell_type": "markdown",
      "metadata": {
        "papermill": {
          "duration": 0.184345,
          "end_time": "2021-05-31T10:52:53.064016",
          "exception": false,
          "start_time": "2021-05-31T10:52:52.879671",
          "status": "completed"
        },
        "tags": [],
        "id": "recorded-stephen"
      },
      "source": [
        "### <a id='62'>6.2. Cluster characteristics</a>"
      ],
      "id": "recorded-stephen"
    },
    {
      "cell_type": "code",
      "metadata": {
        "execution": {
          "iopub.execute_input": "2021-05-31T10:52:53.448249Z",
          "iopub.status.busy": "2021-05-31T10:52:53.439159Z",
          "iopub.status.idle": "2021-05-31T10:52:53.468231Z",
          "shell.execute_reply": "2021-05-31T10:52:53.467472Z",
          "shell.execute_reply.started": "2021-05-31T05:19:46.191410Z"
        },
        "papermill": {
          "duration": 0.21991,
          "end_time": "2021-05-31T10:52:53.468442",
          "exception": false,
          "start_time": "2021-05-31T10:52:53.248532",
          "status": "completed"
        },
        "tags": [],
        "id": "related-second"
      },
      "source": [
        "# add cluster column to original dataset with countries and non-scaled values\n",
        "data['cluster'] = y_predicted_standard.tolist()\n",
        "data"
      ],
      "id": "related-second",
      "execution_count": null,
      "outputs": []
    },
    {
      "cell_type": "markdown",
      "metadata": {
        "papermill": {
          "duration": 0.187515,
          "end_time": "2021-05-31T10:52:53.853459",
          "exception": false,
          "start_time": "2021-05-31T10:52:53.665944",
          "status": "completed"
        },
        "tags": [],
        "id": "sapphire-stadium"
      },
      "source": [
        "#### Visualise clusters by feature, original data with no scaling"
      ],
      "id": "sapphire-stadium"
    },
    {
      "cell_type": "code",
      "metadata": {
        "execution": {
          "iopub.execute_input": "2021-05-31T10:52:54.242485Z",
          "iopub.status.busy": "2021-05-31T10:52:54.241736Z",
          "iopub.status.idle": "2021-05-31T10:53:18.377891Z",
          "shell.execute_reply": "2021-05-31T10:53:18.378399Z",
          "shell.execute_reply.started": "2021-05-31T05:19:46.227935Z"
        },
        "papermill": {
          "duration": 24.332727,
          "end_time": "2021-05-31T10:53:18.378593",
          "exception": false,
          "start_time": "2021-05-31T10:52:54.045866",
          "status": "completed"
        },
        "tags": [],
        "id": "spare-librarian"
      },
      "source": [
        "# load example dataset from seaborn \n",
        "sns.get_dataset_names()\n",
        "\n",
        "# plot\n",
        "sns.load_dataset('penguins')\n",
        "sns.pairplot(data, hue=\"cluster\")\n",
        "\n",
        "# title\n",
        "plt.suptitle('Pair Plot of Clusters by Feature', \n",
        "             size = 20);"
      ],
      "id": "spare-librarian",
      "execution_count": null,
      "outputs": []
    },
    {
      "cell_type": "markdown",
      "metadata": {
        "papermill": {
          "duration": 0.208902,
          "end_time": "2021-05-31T10:53:18.801049",
          "exception": false,
          "start_time": "2021-05-31T10:53:18.592147",
          "status": "completed"
        },
        "tags": [],
        "id": "passive-syria"
      },
      "source": [
        "### <a id='63'>6.3. Cluster descriptions</a>"
      ],
      "id": "passive-syria"
    },
    {
      "cell_type": "code",
      "metadata": {
        "execution": {
          "iopub.execute_input": "2021-05-31T10:53:19.244592Z",
          "iopub.status.busy": "2021-05-31T10:53:19.243510Z",
          "iopub.status.idle": "2021-05-31T10:53:19.260760Z",
          "shell.execute_reply": "2021-05-31T10:53:19.261231Z",
          "shell.execute_reply.started": "2021-05-31T05:20:08.508236Z"
        },
        "papermill": {
          "duration": 0.253309,
          "end_time": "2021-05-31T10:53:19.261458",
          "exception": false,
          "start_time": "2021-05-31T10:53:19.008149",
          "status": "completed"
        },
        "tags": [],
        "id": "favorite-mouth"
      },
      "source": [
        "# table of clusters showing mean values per cluster and per feature\n",
        "clusters_table = pd.pivot_table(data, index=['cluster'])\n",
        "clusters_table"
      ],
      "id": "favorite-mouth",
      "execution_count": null,
      "outputs": []
    },
    {
      "cell_type": "code",
      "metadata": {
        "execution": {
          "iopub.execute_input": "2021-05-31T10:53:19.692189Z",
          "iopub.status.busy": "2021-05-31T10:53:19.691512Z",
          "iopub.status.idle": "2021-05-31T10:53:19.699863Z",
          "shell.execute_reply": "2021-05-31T10:53:19.700470Z",
          "shell.execute_reply.started": "2021-05-31T05:20:08.541526Z"
        },
        "papermill": {
          "duration": 0.227526,
          "end_time": "2021-05-31T10:53:19.700681",
          "exception": false,
          "start_time": "2021-05-31T10:53:19.473155",
          "status": "completed"
        },
        "tags": [],
        "id": "hidden-namibia"
      },
      "source": [
        "# cluster 0 \n",
        "cluster_0 = data.loc[data['cluster'] == 0]\n",
        "\n",
        "# list of countries in this country\n",
        "cluster_0.country.unique()"
      ],
      "id": "hidden-namibia",
      "execution_count": null,
      "outputs": []
    },
    {
      "cell_type": "markdown",
      "metadata": {
        "papermill": {
          "duration": 0.209424,
          "end_time": "2021-05-31T10:53:20.119122",
          "exception": false,
          "start_time": "2021-05-31T10:53:19.909698",
          "status": "completed"
        },
        "tags": [],
        "id": "baking-bullet"
      },
      "source": [
        "**Cluster 0: This cluster is characterised by showing average values for all features when comparing with other clusters**\n",
        "\n",
        "- child mortality,    avg\n",
        "- exports,            avg\n",
        "- gdpp,               avg\n",
        "- health,             same as cluster 1\n",
        "- imports,            avg\n",
        "- income,             avg\n",
        "- inflation,          avg\n",
        "- life_expect,        +70 years\n",
        "- total_fer,          avg, 2 children per woman ((number of children that would be born to each woman if the current age-fertility rates remain the same)"
      ],
      "id": "baking-bullet"
    },
    {
      "cell_type": "code",
      "metadata": {
        "execution": {
          "iopub.execute_input": "2021-05-31T10:53:20.540142Z",
          "iopub.status.busy": "2021-05-31T10:53:20.539459Z",
          "iopub.status.idle": "2021-05-31T10:53:20.548972Z",
          "shell.execute_reply": "2021-05-31T10:53:20.548346Z",
          "shell.execute_reply.started": "2021-05-31T05:20:08.551294Z"
        },
        "papermill": {
          "duration": 0.220451,
          "end_time": "2021-05-31T10:53:20.549109",
          "exception": false,
          "start_time": "2021-05-31T10:53:20.328658",
          "status": "completed"
        },
        "tags": [],
        "id": "presidential-triangle"
      },
      "source": [
        "# cluster 1 \n",
        "cluster_1 = data.loc[data['cluster'] == 1]\n",
        "\n",
        "# list of countries in this country\n",
        "cluster_1.country.unique()"
      ],
      "id": "presidential-triangle",
      "execution_count": null,
      "outputs": []
    },
    {
      "cell_type": "markdown",
      "metadata": {
        "papermill": {
          "duration": 0.206951,
          "end_time": "2021-05-31T10:53:20.964204",
          "exception": false,
          "start_time": "2021-05-31T10:53:20.757253",
          "status": "completed"
        },
        "tags": [],
        "id": "quarterly-dakota"
      },
      "source": [
        "**Cluster 1: This cluster is characterised by having the most negative values: high child mortality, lowest economic development (low gdpp, exports and imports, lowest life expectancy**\n",
        "\n",
        "- child mortality, highest\n",
        "- exports, lowest\n",
        "- gdpp, lowest\n",
        "- health, same as cluster 0\n",
        "- imports, lowest\n",
        "- income, significantly lower than other clusters\n",
        "- inflation, highest\n",
        "- life_expect, +50 years\n",
        "- total_fer, highest, 5 children per woman (number of children that would be born to each woman if the current age-fertility rates remain the same)"
      ],
      "id": "quarterly-dakota"
    },
    {
      "cell_type": "code",
      "metadata": {
        "execution": {
          "iopub.execute_input": "2021-05-31T10:53:21.389223Z",
          "iopub.status.busy": "2021-05-31T10:53:21.388227Z",
          "iopub.status.idle": "2021-05-31T10:53:21.397979Z",
          "shell.execute_reply": "2021-05-31T10:53:21.397078Z",
          "shell.execute_reply.started": "2021-05-31T05:20:08.563775Z"
        },
        "papermill": {
          "duration": 0.225018,
          "end_time": "2021-05-31T10:53:21.398171",
          "exception": false,
          "start_time": "2021-05-31T10:53:21.173153",
          "status": "completed"
        },
        "tags": [],
        "id": "operational-vinyl"
      },
      "source": [
        "# cluster 2 \n",
        "cluster_2 = data.loc[data['cluster'] == 2]\n",
        "\n",
        "# list of countries in this country\n",
        "cluster_2.country.unique()"
      ],
      "id": "operational-vinyl",
      "execution_count": null,
      "outputs": []
    },
    {
      "cell_type": "markdown",
      "metadata": {
        "papermill": {
          "duration": 0.235107,
          "end_time": "2021-05-31T10:53:21.863159",
          "exception": false,
          "start_time": "2021-05-31T10:53:21.628052",
          "status": "completed"
        },
        "tags": [],
        "id": "atlantic-dublin"
      },
      "source": [
        "**Cluster 2: This cluster is characterised by showing really strong or positive values such as good economic development, high life expectancy, low child mortality**\n",
        "\n",
        "\n",
        "- child mortality, lowest\n",
        "- exports,  highest\n",
        "- gdpp, highest by a lot\n",
        "- health, higher than both other clusters\n",
        "- imports, highest\n",
        "- income, significantly higher than other clusters\n",
        "- inflation, lowest\n",
        "- life_expect, +80 years\n",
        "- total_fer, lowest age-fertility rate, 1 child per woman (number of children that would be born to each woman if the current age-fertility rates remain the same)\n"
      ],
      "id": "atlantic-dublin"
    },
    {
      "cell_type": "markdown",
      "metadata": {
        "papermill": {
          "duration": 0.213849,
          "end_time": "2021-05-31T10:53:22.286691",
          "exception": false,
          "start_time": "2021-05-31T10:53:22.072842",
          "status": "completed"
        },
        "tags": [],
        "id": "undefined-peter"
      },
      "source": [
        "### <a id='64'>6.4. Clusters and their location in the world</a>"
      ],
      "id": "undefined-peter"
    },
    {
      "cell_type": "code",
      "metadata": {
        "execution": {
          "iopub.execute_input": "2021-05-31T10:53:22.708315Z",
          "iopub.status.busy": "2021-05-31T10:53:22.707265Z",
          "iopub.status.idle": "2021-05-31T10:53:23.267166Z",
          "shell.execute_reply": "2021-05-31T10:53:23.267684Z",
          "shell.execute_reply.started": "2021-05-31T05:20:08.577178Z"
        },
        "papermill": {
          "duration": 0.772022,
          "end_time": "2021-05-31T10:53:23.267890",
          "exception": false,
          "start_time": "2021-05-31T10:53:22.495868",
          "status": "completed"
        },
        "tags": [],
        "id": "physical-affiliation"
      },
      "source": [
        "# import latitude and longitude data\n",
        "geo_data = pd.read_csv(\"/kaggle/input/latitude-and-longitude-for-every-country-and-state/world_country_and_usa_states_latitude_and_longitude_values.csv\")\n",
        "\n",
        "# drop columns\n",
        "geo_data_trimmed = geo_data.drop(['country_code','usa_state_code','usa_state_latitude','usa_state_longitude','usa_state'], axis=1)\n",
        "\n",
        "# add geo_data_trimmed df to df with clusters \n",
        "data_combined = pd.merge(\n",
        "    geo_data_trimmed,\n",
        "    data,\n",
        "    on='country',\n",
        "    how= 'inner'\n",
        ")\n",
        "\n",
        "# output \n",
        "data_combined.head(2)"
      ],
      "id": "physical-affiliation",
      "execution_count": null,
      "outputs": []
    },
    {
      "cell_type": "code",
      "metadata": {
        "execution": {
          "iopub.execute_input": "2021-05-31T10:53:23.790509Z",
          "iopub.status.busy": "2021-05-31T10:53:23.787812Z",
          "iopub.status.idle": "2021-05-31T10:53:23.876124Z",
          "shell.execute_reply": "2021-05-31T10:53:23.876664Z",
          "shell.execute_reply.started": "2021-05-31T05:20:08.625930Z"
        },
        "papermill": {
          "duration": 0.394573,
          "end_time": "2021-05-31T10:53:23.876880",
          "exception": false,
          "start_time": "2021-05-31T10:53:23.482307",
          "status": "completed"
        },
        "tags": [],
        "id": "earned-education"
      },
      "source": [
        "# https://geopandas.org/docs/user_guide/mapping.html\n",
        "# load example data from geodataframe \n",
        "world = gpd.read_file(gpd.datasets.get_path('naturalearth_lowres'))\n",
        "world.head()"
      ],
      "id": "earned-education",
      "execution_count": null,
      "outputs": []
    },
    {
      "cell_type": "code",
      "metadata": {
        "execution": {
          "iopub.execute_input": "2021-05-31T10:53:24.319305Z",
          "iopub.status.busy": "2021-05-31T10:53:24.318616Z",
          "iopub.status.idle": "2021-05-31T10:53:24.699852Z",
          "shell.execute_reply": "2021-05-31T10:53:24.700348Z",
          "shell.execute_reply.started": "2021-05-31T05:20:08.753676Z"
        },
        "papermill": {
          "duration": 0.604947,
          "end_time": "2021-05-31T10:53:24.700538",
          "exception": false,
          "start_time": "2021-05-31T10:53:24.095591",
          "status": "completed"
        },
        "tags": [],
        "id": "together-mustang"
      },
      "source": [
        "# https://geopandas.org/docs/user_guide/mapping.html\n",
        "# load example data from geodataframe \n",
        "world = gpd.read_file(gpd.datasets.get_path('naturalearth_lowres'))\n",
        "world.head()\n",
        "\n",
        "# remove antartica\n",
        "world = world[(world.pop_est>0) & (world.name!=\"Antarctica\")]\n",
        "\n",
        "# change column name\n",
        "world_copy = world.copy()\n",
        "world_copy.rename(columns = {'name' : 'country'}, inplace = True)\n",
        "world_copy.head()\n",
        "\n",
        "# append geodataframe data with data_combined data\n",
        "world_data = pd.merge(\n",
        "        data_combined,\n",
        "        world_copy,\n",
        "        on='country',\n",
        "        how= 'inner'\n",
        ")\n",
        "\n",
        "# world_data\n",
        "world_data.head(5)\n",
        "\n",
        "\n",
        "# convert df into geodf\n",
        "\n",
        "world_data = gdf(world_data)\n",
        "\n",
        "# plot clusters\n",
        "fig, ax = plt.subplots(1, 1)\n",
        "world_data.plot(column = 'cluster',  cmap='Set2',  ax=ax, legend=True);"
      ],
      "id": "together-mustang",
      "execution_count": null,
      "outputs": []
    },
    {
      "cell_type": "markdown",
      "metadata": {
        "papermill": {
          "duration": 0.213174,
          "end_time": "2021-05-31T10:53:25.126548",
          "exception": false,
          "start_time": "2021-05-31T10:53:24.913374",
          "status": "completed"
        },
        "tags": [],
        "id": "creative-ferry"
      },
      "source": [
        "## <a id='7'>7. Further analysis to complement clustering </a>\n",
        "\n"
      ],
      "id": "creative-ferry"
    },
    {
      "cell_type": "markdown",
      "metadata": {
        "papermill": {
          "duration": 0.215251,
          "end_time": "2021-05-31T10:53:25.560781",
          "exception": false,
          "start_time": "2021-05-31T10:53:25.345530",
          "status": "completed"
        },
        "tags": [],
        "id": "prescribed-receptor"
      },
      "source": [
        "\n",
        "We've evaluated the results of the clustering by: \n",
        "\n",
        "  a) plotting the relationship of features by cluster in Cluster plotting\n",
        "\n",
        "  b) comparing average values of each feature in Cluster characteristics\n",
        "\n",
        "\n",
        "Based on an initial assessment of the average values of each cluster, *Cluster 1* could be focus for further analysis. However, when we plot the clusters and look at the graphs, we see that there is overlapping of clusters as well as spread out clusters.\n",
        "\n",
        "Utilising PCA as an alternative did not result in a significant difference.\n",
        "\n",
        "We've been able to identify some patters in the data and group countries into 3 clusters. However, we should not rely solely on this result to make the recommendation of countries that should receive funding. There are a few alternatives to explore before we can make this recommendation. Here are some alternatives to explore:\n"
      ],
      "id": "prescribed-receptor"
    },
    {
      "cell_type": "markdown",
      "metadata": {
        "papermill": {
          "duration": 0.215204,
          "end_time": "2021-05-31T10:53:25.992259",
          "exception": false,
          "start_time": "2021-05-31T10:53:25.777055",
          "status": "completed"
        },
        "tags": [],
        "id": "ranking-pavilion"
      },
      "source": [
        "### <a id='71'>7.1. Dropping features with high correlation</a>\n",
        "\n"
      ],
      "id": "ranking-pavilion"
    },
    {
      "cell_type": "code",
      "metadata": {
        "execution": {
          "iopub.execute_input": "2021-05-31T10:53:26.444905Z",
          "iopub.status.busy": "2021-05-31T10:53:26.430919Z",
          "iopub.status.idle": "2021-05-31T10:53:26.450031Z",
          "shell.execute_reply": "2021-05-31T10:53:26.449432Z",
          "shell.execute_reply.started": "2021-05-31T05:20:09.126731Z"
        },
        "papermill": {
          "duration": 0.240293,
          "end_time": "2021-05-31T10:53:26.450196",
          "exception": false,
          "start_time": "2021-05-31T10:53:26.209903",
          "status": "completed"
        },
        "tags": [],
        "id": "focal-shakespeare"
      },
      "source": [
        "# df without these features \n",
        "dataset_reduced = data.drop(['country','life_expec','total_fer','income'], axis =1)\n",
        "dataset_reduced.head()"
      ],
      "id": "focal-shakespeare",
      "execution_count": null,
      "outputs": []
    },
    {
      "cell_type": "code",
      "metadata": {
        "execution": {
          "iopub.execute_input": "2021-05-31T10:53:26.889780Z",
          "iopub.status.busy": "2021-05-31T10:53:26.889123Z",
          "iopub.status.idle": "2021-05-31T10:53:26.894308Z",
          "shell.execute_reply": "2021-05-31T10:53:26.893673Z",
          "shell.execute_reply.started": "2021-05-31T05:20:09.145314Z"
        },
        "papermill": {
          "duration": 0.230326,
          "end_time": "2021-05-31T10:53:26.894448",
          "exception": false,
          "start_time": "2021-05-31T10:53:26.664122",
          "status": "completed"
        },
        "tags": [],
        "id": "consecutive-straight"
      },
      "source": [
        "# scale with standard scaling\n",
        "columns = dataset_reduced.columns\n",
        "\n",
        "# the scaler to use will be \n",
        "scaler = StandardScaler()\n",
        "\n",
        "rescaled_dataset_reduced = scaler.fit_transform(dataset_reduced)\n",
        "rescaled_dataset_reduced"
      ],
      "id": "consecutive-straight",
      "execution_count": null,
      "outputs": []
    },
    {
      "cell_type": "code",
      "metadata": {
        "execution": {
          "iopub.execute_input": "2021-05-31T10:53:27.345083Z",
          "iopub.status.busy": "2021-05-31T10:53:27.344109Z",
          "iopub.status.idle": "2021-05-31T10:53:27.349207Z",
          "shell.execute_reply": "2021-05-31T10:53:27.348678Z",
          "shell.execute_reply.started": "2021-05-31T05:20:09.159934Z"
        },
        "papermill": {
          "duration": 0.24238,
          "end_time": "2021-05-31T10:53:27.349392",
          "exception": false,
          "start_time": "2021-05-31T10:53:27.107012",
          "status": "completed"
        },
        "tags": [],
        "id": "thick-microwave"
      },
      "source": [
        "# standardisation\n",
        "# we need to create a new dataframe with the column lables and the rescaled values \n",
        "df_reduced = pd.DataFrame(data= rescaled_dataset_reduced , columns = columns)\n",
        "df_reduced\n"
      ],
      "id": "thick-microwave",
      "execution_count": null,
      "outputs": []
    },
    {
      "cell_type": "code",
      "metadata": {
        "execution": {
          "iopub.execute_input": "2021-05-31T10:53:27.793516Z",
          "iopub.status.busy": "2021-05-31T10:53:27.792826Z",
          "iopub.status.idle": "2021-05-31T10:53:27.820942Z",
          "shell.execute_reply": "2021-05-31T10:53:27.820201Z",
          "shell.execute_reply.started": "2021-05-31T05:20:09.183705Z"
        },
        "papermill": {
          "duration": 0.254456,
          "end_time": "2021-05-31T10:53:27.821103",
          "exception": false,
          "start_time": "2021-05-31T10:53:27.566647",
          "status": "completed"
        },
        "tags": [],
        "id": "center-poland"
      },
      "source": [
        "# run the model with the standardised reduced dataset\n",
        "# method to compute the clusters and assign the labels\n",
        "y_predicted_reduced = km.fit_predict(df_reduced) \n",
        "y_predicted_reduced"
      ],
      "id": "center-poland",
      "execution_count": null,
      "outputs": []
    },
    {
      "cell_type": "code",
      "metadata": {
        "execution": {
          "iopub.execute_input": "2021-05-31T10:53:28.286266Z",
          "iopub.status.busy": "2021-05-31T10:53:28.285615Z",
          "iopub.status.idle": "2021-05-31T10:53:28.290297Z",
          "shell.execute_reply": "2021-05-31T10:53:28.289742Z",
          "shell.execute_reply.started": "2021-05-31T05:20:09.220047Z"
        },
        "papermill": {
          "duration": 0.238602,
          "end_time": "2021-05-31T10:53:28.290443",
          "exception": false,
          "start_time": "2021-05-31T10:53:28.051841",
          "status": "completed"
        },
        "tags": [],
        "id": "incorporate-phone"
      },
      "source": [
        "# add the cluster column to the dataframe \n",
        "df_reduced['cluster'] = y_predicted_reduced\n",
        "df_reduced.head()"
      ],
      "id": "incorporate-phone",
      "execution_count": null,
      "outputs": []
    },
    {
      "cell_type": "code",
      "metadata": {
        "execution": {
          "iopub.execute_input": "2021-05-31T10:53:28.729933Z",
          "iopub.status.busy": "2021-05-31T10:53:28.727858Z",
          "iopub.status.idle": "2021-05-31T10:53:29.190219Z",
          "shell.execute_reply": "2021-05-31T10:53:29.189216Z",
          "shell.execute_reply.started": "2021-05-31T05:20:09.235083Z"
        },
        "papermill": {
          "duration": 0.686753,
          "end_time": "2021-05-31T10:53:29.190401",
          "exception": false,
          "start_time": "2021-05-31T10:53:28.503648",
          "status": "completed"
        },
        "tags": [],
        "id": "freelance-stake"
      },
      "source": [
        "# calculate Sum of Squared Errors (SSE), also called distorsions, for a range of number of cluster - with df scaled with StandardScaler + PCA\n",
        "sse = []\n",
        "for i in range(1, 11):\n",
        "    km = KMeans(\n",
        "        n_clusters=i, init='random',\n",
        "        n_init=10, max_iter=300,\n",
        "        tol=1e-04, random_state=0\n",
        "    )\n",
        "    km.fit(df_reduced)\n",
        "    sse.append(km.inertia_)\n",
        "\n",
        "# plot\n",
        "plt.plot(range(1, 11), sse, marker='o')\n",
        "plt.xlabel('Number of clusters')\n",
        "plt.ylabel('SSE')\n",
        "plt.show()"
      ],
      "id": "freelance-stake",
      "execution_count": null,
      "outputs": []
    },
    {
      "cell_type": "markdown",
      "metadata": {
        "papermill": {
          "duration": 0.214708,
          "end_time": "2021-05-31T10:53:29.628740",
          "exception": false,
          "start_time": "2021-05-31T10:53:29.414032",
          "status": "completed"
        },
        "tags": [],
        "id": "controlling-france"
      },
      "source": [
        "**Findings** \n",
        "\n",
        "2 clusters with high inertia"
      ],
      "id": "controlling-france"
    },
    {
      "cell_type": "markdown",
      "metadata": {
        "papermill": {
          "duration": 0.218922,
          "end_time": "2021-05-31T10:53:30.061836",
          "exception": false,
          "start_time": "2021-05-31T10:53:29.842914",
          "status": "completed"
        },
        "tags": [],
        "id": "native-basement"
      },
      "source": [
        "### <a id='72'>7.2. Further analysis of clusters</a>"
      ],
      "id": "native-basement"
    },
    {
      "cell_type": "markdown",
      "metadata": {
        "papermill": {
          "duration": 0.220367,
          "end_time": "2021-05-31T10:53:30.499744",
          "exception": false,
          "start_time": "2021-05-31T10:53:30.279377",
          "status": "completed"
        },
        "tags": [],
        "id": "convenient-spell"
      },
      "source": [
        "#Closely investigate each group of countries and argue that the assignment of countries to these three clusters is reasonable. If not, please explain what went wrong."
      ],
      "id": "convenient-spell"
    },
    {
      "cell_type": "markdown",
      "metadata": {
        "papermill": {
          "duration": 0.221179,
          "end_time": "2021-05-31T10:53:30.944982",
          "exception": false,
          "start_time": "2021-05-31T10:53:30.723803",
          "status": "completed"
        },
        "tags": [],
        "id": "official-tongue"
      },
      "source": [
        "### <a id='73'>7.3. Linear regression (Work-in-Progress)</a>"
      ],
      "id": "official-tongue"
    },
    {
      "cell_type": "markdown",
      "metadata": {
        "papermill": {
          "duration": 0.218304,
          "end_time": "2021-05-31T10:53:31.385612",
          "exception": false,
          "start_time": "2021-05-31T10:53:31.167308",
          "status": "completed"
        },
        "tags": [],
        "id": "executive-connection"
      },
      "source": [
        "Since evaluating the performance of an algorithm requires a **label** that represents both the *expected* and the *predicted* value to compare them, we might want to consider adding a feature for labeling.\n",
        "\n",
        "We've managed to use clustering to find meaningful relationships in the data, we can consider this part as a preprocessing step."
      ],
      "id": "executive-connection"
    },
    {
      "cell_type": "code",
      "metadata": {
        "execution": {
          "iopub.execute_input": "2021-05-31T10:53:31.823606Z",
          "iopub.status.busy": "2021-05-31T10:53:31.822930Z",
          "iopub.status.idle": "2021-05-31T10:53:31.859578Z",
          "shell.execute_reply": "2021-05-31T10:53:31.860173Z",
          "shell.execute_reply.started": "2021-05-31T05:20:09.640965Z"
        },
        "papermill": {
          "duration": 0.260107,
          "end_time": "2021-05-31T10:53:31.860360",
          "exception": false,
          "start_time": "2021-05-31T10:53:31.600253",
          "status": "completed"
        },
        "tags": [],
        "id": "certain-beginning"
      },
      "source": [
        "mpi_data = pd.read_csv(\"/kaggle/input/mpi/MPI_national.csv\")\n",
        "mpi_data"
      ],
      "id": "certain-beginning",
      "execution_count": null,
      "outputs": []
    },
    {
      "cell_type": "markdown",
      "metadata": {
        "papermill": {
          "duration": 0.21487,
          "end_time": "2021-05-31T10:53:32.291623",
          "exception": false,
          "start_time": "2021-05-31T10:53:32.076753",
          "status": "completed"
        },
        "tags": [],
        "id": "durable-material"
      },
      "source": [
        "### <a id='74'>7.4. Further clustering of clusters (Work-in-Progress)</a>"
      ],
      "id": "durable-material"
    },
    {
      "cell_type": "markdown",
      "metadata": {
        "papermill": {
          "duration": 0.220557,
          "end_time": "2021-05-31T10:53:32.733909",
          "exception": false,
          "start_time": "2021-05-31T10:53:32.513352",
          "status": "completed"
        },
        "tags": [],
        "id": "severe-harvest"
      },
      "source": [
        "## <a id='8'>8. Answer to the question and learnings</a>"
      ],
      "id": "severe-harvest"
    },
    {
      "cell_type": "markdown",
      "metadata": {
        "papermill": {
          "duration": 0.219556,
          "end_time": "2021-05-31T10:53:33.173318",
          "exception": false,
          "start_time": "2021-05-31T10:53:32.953762",
          "status": "completed"
        },
        "tags": [],
        "id": "confused-european"
      },
      "source": [
        "## <a id='9'>9. References</a>"
      ],
      "id": "confused-european"
    },
    {
      "cell_type": "markdown",
      "metadata": {
        "papermill": {
          "duration": 0.214255,
          "end_time": "2021-05-31T10:53:33.605760",
          "exception": false,
          "start_time": "2021-05-31T10:53:33.391505",
          "status": "completed"
        },
        "tags": [],
        "id": "multiple-rendering"
      },
      "source": [
        "**Libraries and Code**\n",
        "\n",
        "https://scikit-learn.org/stable/modules/generated/sklearn.cluster.KMeans.html\n",
        "\n",
        "https://seaborn.pydata.org/generated/seaborn.load_dataset.html\n",
        "\n",
        "https://seaborn.pydata.org/generated/seaborn.pairplot.html\n",
        "\n",
        "https://scikit-learn.org/stable/modules/generated/sklearn.decomposition.PCA.html\n",
        "\n",
        "https://scikit-learn.org/stable/modules/generated/sklearn.preprocessing.StandardScaler.html#sklearn.preprocessing.StandardScaler\n",
        "\n",
        "PCA in Python:  https://www.youtube.com/watch?v=Lsue2gEM9D0 , https://www.youtube.com/watch?v=SBYdqlLgbGk\n",
        "\n",
        "\n",
        "\n",
        "**PCA**\n",
        "\n",
        "https://builtin.com/data-science/step-step-explanation-principal-component-analysis\n",
        "\n",
        "https://online.stat.psu.edu/stat505/lesson/11/11.4\n",
        "\n",
        "\n",
        "**Similar Cases**\n",
        "\n",
        "https://upzoning.berkeley.edu/download/Classifying_Neighborhoods_Methodology.pdf\n",
        "\n",
        "\n",
        "**K-Means Model**\n",
        "\n",
        "https://www.youtube.com/watch?v=EItlUEPCIzM&list=LL&index=1\n",
        "\n",
        "https://towardsdatascience.com/k-means-clustering-with-scikit-learn-6b47a369a83c\n",
        "\n",
        "https://medium.com/analytics-vidhya/why-is-scaling-required-in-knn-and-k-means-8129e4d88ed7\n",
        "\n",
        "https://developer.squareup.com/blog/so-you-have-some-clusters-now-what/\n",
        "\n",
        "\n",
        "**Visualisations**\n",
        "\n",
        "https://towardsdatascience.com/visualizing-data-with-pair-plots-in-python-f228cf529166\n",
        "\n",
        "\n",
        "**Silhouette Score**\n",
        "\n",
        "https://dzone.com/articles/kmeans-silhouette-score-explained-with-python-exam\n",
        "\n",
        "https://scikit-learn.org/stable/modules/generated/sklearn.metrics.silhouette_score.html\n",
        "\n",
        "\n",
        "\n",
        "\n",
        "\n",
        "\n",
        "\n",
        "\n",
        "\n",
        "\n",
        "\n",
        "\n",
        "\n",
        "\n"
      ],
      "id": "multiple-rendering"
    }
  ]
}